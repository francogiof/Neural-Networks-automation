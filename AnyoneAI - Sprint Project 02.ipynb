{
 "cells": [
  {
   "attachments": {},
   "cell_type": "markdown",
   "id": "9d3c07ee-c3bf-4530-812a-36405502b38d",
   "metadata": {
    "id": "9d3c07ee-c3bf-4530-812a-36405502b38d"
   },
   "source": [
    "# AnyoneAI - Sprint Project 02\n",
    "> Home Credit Default Risk\n",
    "\n",
    "You've been learning a lot about Machine Learning Algorithms, now we you're gonna be asked to put it all togheter. \n",
    "\n",
    "You will create a complete pipeline to preprocess the data, train your model and then predict values for the [Home Credit Default Risk](https://www.kaggle.com/competitions/home-credit-default-risk/) Kaggle competition.\n"
   ]
  },
  {
   "attachments": {},
   "cell_type": "markdown",
   "id": "e396c950-04b0-453e-b930-a22a96cee2d1",
   "metadata": {
    "id": "e396c950-04b0-453e-b930-a22a96cee2d1"
   },
   "source": [
    "## 1. Introduction\n",
    "\n",
    "This is a binary Classification task: we want to predict whether the person applying for a home credit will be able to repay their debt or not. Our model will have to predict a 1 indicating the client will have payment difficulties: he/she will have late payment of more than X days on at least one of the first Y installments of the loan in our sample, 0 in all other cases.\n",
    "\n",
    "The dataset is composed of multiple files with different information about loans taken. In this project, we will work exclusively with the primary files: `application_train_aai.csv` and `application_test_aai.csv`.\n",
    "\n",
    "We will use [Area Under the ROC Curve](https://developers.google.com/machine-learning/crash-course/classification/roc-and-auc?hl=es_419) as the evaluation metric, so our models will have to return the probabilities that a loan is not paid for each row."
   ]
  },
  {
   "cell_type": "code",
   "execution_count": 1,
   "id": "OzQjTwlkUT0C",
   "metadata": {
    "executionInfo": {
     "elapsed": 2252,
     "status": "ok",
     "timestamp": 1670194396248,
     "user": {
      "displayName": "Jose Luis",
      "userId": "17952480099147442429"
     },
     "user_tz": 180
    },
    "id": "OzQjTwlkUT0C"
   },
   "outputs": [],
   "source": [
    "# Import libraries\n",
    "from sklearn.ensemble import RandomForestClassifier\n",
    "from sklearn.linear_model import LogisticRegression\n",
    "from sklearn.metrics import roc_auc_score\n",
    "from sklearn.model_selection import RandomizedSearchCV\n",
    "from sklearn.utils.validation import check_is_fitted\n",
    "\n",
    "import numpy as np\n",
    "import pandas as pd\n",
    "import matplotlib.pyplot as plt\n",
    "import seaborn as sns\n",
    "\n",
    "from src import config, data_utils, preprocessing"
   ]
  },
  {
   "attachments": {},
   "cell_type": "markdown",
   "id": "3ab085b5-379c-4e02-9f96-08edf5dbf887",
   "metadata": {
    "id": "3ab085b5-379c-4e02-9f96-08edf5dbf887"
   },
   "source": [
    "### Getting the data\n",
    "\n",
    "To access the data for this project, you only need to execute the code below. This will download three files inside the `dataset` folder:\n",
    "\n",
    "- `application_train_aai.csv`: Training dataset you must use to train and find the best hyperparameters on your model.\n",
    "\n",
    "- `application_test_aai.csv`: Test dataset without labels. Because of the absence of labels, you can't use this dataset for your experiments. You will use the file only at the end after you choose what you think is the best model for the tasks. You will have to use that model to fill values in the `TARGET` column using the model predictions. Then submit this dataset alongside this Jupyter notebook, AnyoneAI will internally evaluate your model's accuracy in the hidden data and communicate later ;).\n",
    "\n",
    "- `HomeCredit_columns_description.csv`: This file contains descriptions for the columns in train and test datasets.\n"
   ]
  },
  {
   "attachments": {},
   "cell_type": "markdown",
   "id": "25a0a724-ceb1-40cb-b123-b8c907a9c06f",
   "metadata": {
    "id": "25a0a724-ceb1-40cb-b123-b8c907a9c06f"
   },
   "source": [
    "1.1. Load the training and test datasets. Also, the auxiliary file `HomeCredit_columns_description.csv` has additional information about the features in the dataset."
   ]
  },
  {
   "cell_type": "markdown",
   "id": "MnA4l8-rWraC",
   "metadata": {
    "id": "MnA4l8-rWraC"
   },
   "source": [
    "**Don't change anything in this cell, just make it run correctly**"
   ]
  },
  {
   "cell_type": "code",
   "execution_count": 2,
   "id": "jrkLdOJnWoSS",
   "metadata": {
    "colab": {
     "base_uri": "https://localhost:8080/"
    },
    "executionInfo": {
     "elapsed": 419,
     "status": "ok",
     "timestamp": 1670195316027,
     "user": {
      "displayName": "Jose Luis",
      "userId": "17952480099147442429"
     },
     "user_tz": 180
    },
    "id": "jrkLdOJnWoSS",
    "outputId": "ce9f5ee1-6ed0-4b6f-d8f5-37d38b4e4773"
   },
   "outputs": [
    {
     "name": "stdout",
     "output_type": "stream",
     "text": [
      "Success: app_train shape is correct!\n",
      "Success: app_train type is correct!\n",
      "Success: app_test shape is correct!\n",
      "Success: app_test type is correct!\n"
     ]
    }
   ],
   "source": [
    "app_train, app_test, columns_description = data_utils.get_datasets()\n",
    "\n",
    "\n",
    "if app_train.shape == (246008, 122):\n",
    "    print(\"Success: app_train shape is correct!\")\n",
    "else:\n",
    "    raise ValueError(\"Train dataset shape is incorrect, please review your code\")\n",
    "\n",
    "if isinstance(app_train, pd.DataFrame):\n",
    "    print(\"Success: app_train type is correct!\")\n",
    "else:\n",
    "    raise ValueError(\"Train dataset type is incorrect, please review your code\")\n",
    "\n",
    "if app_test.shape == (61503, 122):\n",
    "    print(\"Success: app_test shape is correct!\")\n",
    "else:\n",
    "    raise ValueError(\"Test dataset shape is incorrect, please review your code\")\n",
    "\n",
    "if isinstance(app_test, pd.DataFrame):\n",
    "    print(\"Success: app_test type is correct!\")\n",
    "else:\n",
    "    raise ValueError(\"Test dataset type is incorrect, please review your code\")"
   ]
  },
  {
   "attachments": {},
   "cell_type": "markdown",
   "id": "7c10a608-5c38-44f4-8158-18225619e7ae",
   "metadata": {
    "id": "7c10a608-5c38-44f4-8158-18225619e7ae",
    "tags": []
   },
   "source": [
    "### Exploratory Data Analysis\n",
    "\n",
    "A lot of the analysis of the data can be found on publicly available Kaggle kernels or blog posts, but you need to make sure you understand the dataset's properties before starting working on it, so we'll do exploratory data analysis for the main files."
   ]
  },
  {
   "attachments": {},
   "cell_type": "markdown",
   "id": "2ea774d3-e12c-4c2b-846d-8c5c03e70928",
   "metadata": {
    "id": "2ea774d3-e12c-4c2b-846d-8c5c03e70928"
   },
   "source": [
    "#### Dataset Basics"
   ]
  },
  {
   "cell_type": "markdown",
   "id": "9f0b4817-5768-49d2-b5f2-907827541f16",
   "metadata": {
    "id": "9f0b4817-5768-49d2-b5f2-907827541f16"
   },
   "source": [
    "1.2. Print how many samples do we have in our train and test datasets."
   ]
  },
  {
   "cell_type": "code",
   "execution_count": 3,
   "id": "6a98fdd5-cbf2-4d20-9559-89c7cf5943cd",
   "metadata": {
    "colab": {
     "base_uri": "https://localhost:8080/"
    },
    "executionInfo": {
     "elapsed": 275,
     "status": "ok",
     "timestamp": 1670195319978,
     "user": {
      "displayName": "Jose Luis",
      "userId": "17952480099147442429"
     },
     "user_tz": 180
    },
    "id": "6a98fdd5-cbf2-4d20-9559-89c7cf5943cd",
    "outputId": "bec830ab-d760-4019-d277-d4249be2948d"
   },
   "outputs": [
    {
     "data": {
      "text/plain": [
       "((246008, 122), (61503, 122))"
      ]
     },
     "execution_count": 3,
     "metadata": {},
     "output_type": "execute_result"
    }
   ],
   "source": [
    "### TODO Complete in this cell: shape of the dataset\n",
    "app_train.shape, app_test.shape"
   ]
  },
  {
   "cell_type": "markdown",
   "id": "74e7a95b-8288-4ead-8c1e-f2cf68167d8e",
   "metadata": {
    "id": "74e7a95b-8288-4ead-8c1e-f2cf68167d8e"
   },
   "source": [
    "1.3. List all columns in the train dataset."
   ]
  },
  {
   "cell_type": "code",
   "execution_count": 4,
   "id": "d7af2f2e-93db-41e6-bb26-df1ad0be7786",
   "metadata": {
    "colab": {
     "base_uri": "https://localhost:8080/"
    },
    "executionInfo": {
     "elapsed": 313,
     "status": "ok",
     "timestamp": 1670195328520,
     "user": {
      "displayName": "Jose Luis",
      "userId": "17952480099147442429"
     },
     "user_tz": 180
    },
    "id": "d7af2f2e-93db-41e6-bb26-df1ad0be7786",
    "outputId": "cc0cbeb7-edf1-4d3a-cb05-3341232c2606"
   },
   "outputs": [
    {
     "data": {
      "text/plain": [
       "['SK_ID_CURR',\n",
       " 'TARGET',\n",
       " 'NAME_CONTRACT_TYPE',\n",
       " 'CODE_GENDER',\n",
       " 'FLAG_OWN_CAR',\n",
       " 'FLAG_OWN_REALTY',\n",
       " 'CNT_CHILDREN',\n",
       " 'AMT_INCOME_TOTAL',\n",
       " 'AMT_CREDIT',\n",
       " 'AMT_ANNUITY',\n",
       " 'AMT_GOODS_PRICE',\n",
       " 'NAME_TYPE_SUITE',\n",
       " 'NAME_INCOME_TYPE',\n",
       " 'NAME_EDUCATION_TYPE',\n",
       " 'NAME_FAMILY_STATUS',\n",
       " 'NAME_HOUSING_TYPE',\n",
       " 'REGION_POPULATION_RELATIVE',\n",
       " 'DAYS_BIRTH',\n",
       " 'DAYS_EMPLOYED',\n",
       " 'DAYS_REGISTRATION',\n",
       " 'DAYS_ID_PUBLISH',\n",
       " 'OWN_CAR_AGE',\n",
       " 'FLAG_MOBIL',\n",
       " 'FLAG_EMP_PHONE',\n",
       " 'FLAG_WORK_PHONE',\n",
       " 'FLAG_CONT_MOBILE',\n",
       " 'FLAG_PHONE',\n",
       " 'FLAG_EMAIL',\n",
       " 'OCCUPATION_TYPE',\n",
       " 'CNT_FAM_MEMBERS',\n",
       " 'REGION_RATING_CLIENT',\n",
       " 'REGION_RATING_CLIENT_W_CITY',\n",
       " 'WEEKDAY_APPR_PROCESS_START',\n",
       " 'HOUR_APPR_PROCESS_START',\n",
       " 'REG_REGION_NOT_LIVE_REGION',\n",
       " 'REG_REGION_NOT_WORK_REGION',\n",
       " 'LIVE_REGION_NOT_WORK_REGION',\n",
       " 'REG_CITY_NOT_LIVE_CITY',\n",
       " 'REG_CITY_NOT_WORK_CITY',\n",
       " 'LIVE_CITY_NOT_WORK_CITY',\n",
       " 'ORGANIZATION_TYPE',\n",
       " 'EXT_SOURCE_1',\n",
       " 'EXT_SOURCE_2',\n",
       " 'EXT_SOURCE_3',\n",
       " 'APARTMENTS_AVG',\n",
       " 'BASEMENTAREA_AVG',\n",
       " 'YEARS_BEGINEXPLUATATION_AVG',\n",
       " 'YEARS_BUILD_AVG',\n",
       " 'COMMONAREA_AVG',\n",
       " 'ELEVATORS_AVG',\n",
       " 'ENTRANCES_AVG',\n",
       " 'FLOORSMAX_AVG',\n",
       " 'FLOORSMIN_AVG',\n",
       " 'LANDAREA_AVG',\n",
       " 'LIVINGAPARTMENTS_AVG',\n",
       " 'LIVINGAREA_AVG',\n",
       " 'NONLIVINGAPARTMENTS_AVG',\n",
       " 'NONLIVINGAREA_AVG',\n",
       " 'APARTMENTS_MODE',\n",
       " 'BASEMENTAREA_MODE',\n",
       " 'YEARS_BEGINEXPLUATATION_MODE',\n",
       " 'YEARS_BUILD_MODE',\n",
       " 'COMMONAREA_MODE',\n",
       " 'ELEVATORS_MODE',\n",
       " 'ENTRANCES_MODE',\n",
       " 'FLOORSMAX_MODE',\n",
       " 'FLOORSMIN_MODE',\n",
       " 'LANDAREA_MODE',\n",
       " 'LIVINGAPARTMENTS_MODE',\n",
       " 'LIVINGAREA_MODE',\n",
       " 'NONLIVINGAPARTMENTS_MODE',\n",
       " 'NONLIVINGAREA_MODE',\n",
       " 'APARTMENTS_MEDI',\n",
       " 'BASEMENTAREA_MEDI',\n",
       " 'YEARS_BEGINEXPLUATATION_MEDI',\n",
       " 'YEARS_BUILD_MEDI',\n",
       " 'COMMONAREA_MEDI',\n",
       " 'ELEVATORS_MEDI',\n",
       " 'ENTRANCES_MEDI',\n",
       " 'FLOORSMAX_MEDI',\n",
       " 'FLOORSMIN_MEDI',\n",
       " 'LANDAREA_MEDI',\n",
       " 'LIVINGAPARTMENTS_MEDI',\n",
       " 'LIVINGAREA_MEDI',\n",
       " 'NONLIVINGAPARTMENTS_MEDI',\n",
       " 'NONLIVINGAREA_MEDI',\n",
       " 'FONDKAPREMONT_MODE',\n",
       " 'HOUSETYPE_MODE',\n",
       " 'TOTALAREA_MODE',\n",
       " 'WALLSMATERIAL_MODE',\n",
       " 'EMERGENCYSTATE_MODE',\n",
       " 'OBS_30_CNT_SOCIAL_CIRCLE',\n",
       " 'DEF_30_CNT_SOCIAL_CIRCLE',\n",
       " 'OBS_60_CNT_SOCIAL_CIRCLE',\n",
       " 'DEF_60_CNT_SOCIAL_CIRCLE',\n",
       " 'DAYS_LAST_PHONE_CHANGE',\n",
       " 'FLAG_DOCUMENT_2',\n",
       " 'FLAG_DOCUMENT_3',\n",
       " 'FLAG_DOCUMENT_4',\n",
       " 'FLAG_DOCUMENT_5',\n",
       " 'FLAG_DOCUMENT_6',\n",
       " 'FLAG_DOCUMENT_7',\n",
       " 'FLAG_DOCUMENT_8',\n",
       " 'FLAG_DOCUMENT_9',\n",
       " 'FLAG_DOCUMENT_10',\n",
       " 'FLAG_DOCUMENT_11',\n",
       " 'FLAG_DOCUMENT_12',\n",
       " 'FLAG_DOCUMENT_13',\n",
       " 'FLAG_DOCUMENT_14',\n",
       " 'FLAG_DOCUMENT_15',\n",
       " 'FLAG_DOCUMENT_16',\n",
       " 'FLAG_DOCUMENT_17',\n",
       " 'FLAG_DOCUMENT_18',\n",
       " 'FLAG_DOCUMENT_19',\n",
       " 'FLAG_DOCUMENT_20',\n",
       " 'FLAG_DOCUMENT_21',\n",
       " 'AMT_REQ_CREDIT_BUREAU_HOUR',\n",
       " 'AMT_REQ_CREDIT_BUREAU_DAY',\n",
       " 'AMT_REQ_CREDIT_BUREAU_WEEK',\n",
       " 'AMT_REQ_CREDIT_BUREAU_MON',\n",
       " 'AMT_REQ_CREDIT_BUREAU_QRT',\n",
       " 'AMT_REQ_CREDIT_BUREAU_YEAR']"
      ]
     },
     "execution_count": 4,
     "metadata": {},
     "output_type": "execute_result"
    }
   ],
   "source": [
    "### TODO Complete in this cell: Show all columns in the training dataset\n",
    "app_train.columns.tolist()"
   ]
  },
  {
   "cell_type": "markdown",
   "id": "2dc4835f-90c3-4049-9ec2-44d102201104",
   "metadata": {
    "id": "2dc4835f-90c3-4049-9ec2-44d102201104"
   },
   "source": [
    "1.4. Show the first 5 records of the training dataset, transpose the dataframe to see each record as a column and features as rows, make sure all features are visualized. Take your time to review what kind of information you can gather from this data.\n",
    "\n",
    "For reference only, it should look like this:\n",
    "\n",
    "|0|1|2|3|4\n",
    "|---|---|---|---|---\n",
    "Unnamed: 0|187399|84777|268140|270686|33785\n",
    "SK_ID_CURR|317244|198357|410700|413785|139141\n",
    "TARGET|0|0|0|0|0\n",
    "NAME_CONTRACT_TYPE|Cash loans|Cash loans|Cash loans|Cash loans|Cash loans\n",
    "...|...|...|...|...|...\n",
    "AMT_REQ_CREDIT_BUREAU_DAY|0.0|0.0|0.0|0.0|0.0"
   ]
  },
  {
   "cell_type": "code",
   "execution_count": 5,
   "id": "ac9c85b3-52e0-4b80-9753-afb81f92bd0d",
   "metadata": {
    "colab": {
     "base_uri": "https://localhost:8080/",
     "height": 423
    },
    "executionInfo": {
     "elapsed": 305,
     "status": "ok",
     "timestamp": 1670195332530,
     "user": {
      "displayName": "Jose Luis",
      "userId": "17952480099147442429"
     },
     "user_tz": 180
    },
    "id": "ac9c85b3-52e0-4b80-9753-afb81f92bd0d",
    "outputId": "2d56774f-18a2-48f2-f4b4-da9decca6012"
   },
   "outputs": [
    {
     "data": {
      "text/html": [
       "<div>\n",
       "<style scoped>\n",
       "    .dataframe tbody tr th:only-of-type {\n",
       "        vertical-align: middle;\n",
       "    }\n",
       "\n",
       "    .dataframe tbody tr th {\n",
       "        vertical-align: top;\n",
       "    }\n",
       "\n",
       "    .dataframe thead th {\n",
       "        text-align: right;\n",
       "    }\n",
       "</style>\n",
       "<table border=\"1\" class=\"dataframe\">\n",
       "  <thead>\n",
       "    <tr style=\"text-align: right;\">\n",
       "      <th></th>\n",
       "      <th>0</th>\n",
       "      <th>1</th>\n",
       "      <th>2</th>\n",
       "      <th>3</th>\n",
       "      <th>4</th>\n",
       "    </tr>\n",
       "  </thead>\n",
       "  <tbody>\n",
       "    <tr>\n",
       "      <th>SK_ID_CURR</th>\n",
       "      <td>428247</td>\n",
       "      <td>140966</td>\n",
       "      <td>407283</td>\n",
       "      <td>434300</td>\n",
       "      <td>446788</td>\n",
       "    </tr>\n",
       "    <tr>\n",
       "      <th>TARGET</th>\n",
       "      <td>0</td>\n",
       "      <td>0</td>\n",
       "      <td>0</td>\n",
       "      <td>0</td>\n",
       "      <td>0</td>\n",
       "    </tr>\n",
       "    <tr>\n",
       "      <th>NAME_CONTRACT_TYPE</th>\n",
       "      <td>Cash loans</td>\n",
       "      <td>Cash loans</td>\n",
       "      <td>Revolving loans</td>\n",
       "      <td>Cash loans</td>\n",
       "      <td>Cash loans</td>\n",
       "    </tr>\n",
       "    <tr>\n",
       "      <th>CODE_GENDER</th>\n",
       "      <td>F</td>\n",
       "      <td>M</td>\n",
       "      <td>F</td>\n",
       "      <td>F</td>\n",
       "      <td>F</td>\n",
       "    </tr>\n",
       "    <tr>\n",
       "      <th>FLAG_OWN_CAR</th>\n",
       "      <td>N</td>\n",
       "      <td>Y</td>\n",
       "      <td>N</td>\n",
       "      <td>N</td>\n",
       "      <td>N</td>\n",
       "    </tr>\n",
       "    <tr>\n",
       "      <th>...</th>\n",
       "      <td>...</td>\n",
       "      <td>...</td>\n",
       "      <td>...</td>\n",
       "      <td>...</td>\n",
       "      <td>...</td>\n",
       "    </tr>\n",
       "    <tr>\n",
       "      <th>AMT_REQ_CREDIT_BUREAU_DAY</th>\n",
       "      <td>NaN</td>\n",
       "      <td>0.0</td>\n",
       "      <td>0.0</td>\n",
       "      <td>0.0</td>\n",
       "      <td>0.0</td>\n",
       "    </tr>\n",
       "    <tr>\n",
       "      <th>AMT_REQ_CREDIT_BUREAU_WEEK</th>\n",
       "      <td>NaN</td>\n",
       "      <td>0.0</td>\n",
       "      <td>0.0</td>\n",
       "      <td>0.0</td>\n",
       "      <td>0.0</td>\n",
       "    </tr>\n",
       "    <tr>\n",
       "      <th>AMT_REQ_CREDIT_BUREAU_MON</th>\n",
       "      <td>NaN</td>\n",
       "      <td>0.0</td>\n",
       "      <td>0.0</td>\n",
       "      <td>0.0</td>\n",
       "      <td>0.0</td>\n",
       "    </tr>\n",
       "    <tr>\n",
       "      <th>AMT_REQ_CREDIT_BUREAU_QRT</th>\n",
       "      <td>NaN</td>\n",
       "      <td>0.0</td>\n",
       "      <td>0.0</td>\n",
       "      <td>1.0</td>\n",
       "      <td>0.0</td>\n",
       "    </tr>\n",
       "    <tr>\n",
       "      <th>AMT_REQ_CREDIT_BUREAU_YEAR</th>\n",
       "      <td>NaN</td>\n",
       "      <td>0.0</td>\n",
       "      <td>0.0</td>\n",
       "      <td>5.0</td>\n",
       "      <td>1.0</td>\n",
       "    </tr>\n",
       "  </tbody>\n",
       "</table>\n",
       "<p>122 rows × 5 columns</p>\n",
       "</div>"
      ],
      "text/plain": [
       "                                     0           1                2  \\\n",
       "SK_ID_CURR                      428247      140966           407283   \n",
       "TARGET                               0           0                0   \n",
       "NAME_CONTRACT_TYPE          Cash loans  Cash loans  Revolving loans   \n",
       "CODE_GENDER                          F           M                F   \n",
       "FLAG_OWN_CAR                         N           Y                N   \n",
       "...                                ...         ...              ...   \n",
       "AMT_REQ_CREDIT_BUREAU_DAY          NaN         0.0              0.0   \n",
       "AMT_REQ_CREDIT_BUREAU_WEEK         NaN         0.0              0.0   \n",
       "AMT_REQ_CREDIT_BUREAU_MON          NaN         0.0              0.0   \n",
       "AMT_REQ_CREDIT_BUREAU_QRT          NaN         0.0              0.0   \n",
       "AMT_REQ_CREDIT_BUREAU_YEAR         NaN         0.0              0.0   \n",
       "\n",
       "                                     3           4  \n",
       "SK_ID_CURR                      434300      446788  \n",
       "TARGET                               0           0  \n",
       "NAME_CONTRACT_TYPE          Cash loans  Cash loans  \n",
       "CODE_GENDER                          F           F  \n",
       "FLAG_OWN_CAR                         N           N  \n",
       "...                                ...         ...  \n",
       "AMT_REQ_CREDIT_BUREAU_DAY          0.0         0.0  \n",
       "AMT_REQ_CREDIT_BUREAU_WEEK         0.0         0.0  \n",
       "AMT_REQ_CREDIT_BUREAU_MON          0.0         0.0  \n",
       "AMT_REQ_CREDIT_BUREAU_QRT          1.0         0.0  \n",
       "AMT_REQ_CREDIT_BUREAU_YEAR         5.0         1.0  \n",
       "\n",
       "[122 rows x 5 columns]"
      ]
     },
     "execution_count": 5,
     "metadata": {},
     "output_type": "execute_result"
    }
   ],
   "source": [
    "### TODO Complete in this cell: show first 5 records in a transposed table\n",
    "app_train.head().T"
   ]
  },
  {
   "cell_type": "markdown",
   "id": "59da8f46-e503-4b67-8e73-ac61c394824c",
   "metadata": {
    "id": "59da8f46-e503-4b67-8e73-ac61c394824c"
   },
   "source": [
    "1.5. Show the distribution of the target variable values: print the total value count and the percentage of each value, plot this relationship."
   ]
  },
  {
   "cell_type": "code",
   "execution_count": null,
   "id": "8855d370-c825-415b-9dd0-9dbdd576fada",
   "metadata": {
    "colab": {
     "base_uri": "https://localhost:8080/",
     "height": 359
    },
    "executionInfo": {
     "elapsed": 637,
     "status": "ok",
     "timestamp": 1670195337134,
     "user": {
      "displayName": "Jose Luis",
      "userId": "17952480099147442429"
     },
     "user_tz": 180
    },
    "id": "8855d370-c825-415b-9dd0-9dbdd576fada",
    "outputId": "13794aaf-d179-4506-f087-ad8cd0be3e98"
   },
   "outputs": [
    {
     "name": "stdout",
     "output_type": "stream",
     "text": [
      "Value Counts:\n",
      "TARGET\n",
      "0    226257\n",
      "1     19751\n",
      "Name: count, dtype: int64\n",
      "\n",
      "Percentages:\n",
      "TARGET\n",
      "0    91.97\n",
      "1     8.03\n",
      "Name: proportion, dtype: float64\n"
     ]
    }
   ],
   "source": [
    "### TODO Complete in this cell: show distribution of target variable\n",
    "# Count of each target value\n",
    "print(\"Value Counts:\")\n",
    "print(app_train['TARGET'].value_counts())\n",
    "\n",
    "# Percentage of each target value\n",
    "print(\"\\nPercentages:\")\n",
    "print(app_train['TARGET'].value_counts(normalize=True).round(4) * 100)"
   ]
  },
  {
   "cell_type": "code",
   "execution_count": 7,
   "id": "d4b7782b",
   "metadata": {},
   "outputs": [
    {
     "data": {
      "image/png": "[encoded data removed]",
      "text/plain": [
       "<Figure size 640x480 with 1 Axes>"
      ]
     },
     "metadata": {},
     "output_type": "display_data"
    }
   ],
   "source": [
    "# Basic bar plot\n",
    "app_train['TARGET'].value_counts().plot(kind='bar')\n",
    "plt.title('Target Variable Distribution')\n",
    "plt.xlabel('TARGET (0=No Default, 1=Default)')\n",
    "plt.ylabel('Count')\n",
    "plt.show()"
   ]
  },
  {
   "cell_type": "markdown",
   "id": "cc7b5a63-da31-4a61-9e91-9708dc7633a7",
   "metadata": {
    "id": "cc7b5a63-da31-4a61-9e91-9708dc7633a7"
   },
   "source": [
    "1.6. Show the number of columns of each data type.\n",
    "\n",
    "Just for giving you an idea, the output should look like this (not exactly the same numbers):\n",
    "\n",
    "```python\n",
    "float64    45\n",
    "int64      32\n",
    "object     10\n",
    "```"
   ]
  },
  {
   "cell_type": "code",
   "execution_count": 8,
   "id": "b74878dd-cc48-4e69-bc35-e90457d54b3a",
   "metadata": {
    "colab": {
     "base_uri": "https://localhost:8080/"
    },
    "executionInfo": {
     "elapsed": 298,
     "status": "ok",
     "timestamp": 1666034867408,
     "user": {
      "displayName": "Federico Morales",
      "userId": "06983145799989655383"
     },
     "user_tz": 180
    },
    "id": "b74878dd-cc48-4e69-bc35-e90457d54b3a",
    "outputId": "5c188262-b9b1-4368-b952-fd2b5608a864"
   },
   "outputs": [
    {
     "data": {
      "text/plain": [
       "TARGET\n",
       "0    226257\n",
       "1     19751\n",
       "Name: count, dtype: int64"
      ]
     },
     "execution_count": 8,
     "metadata": {},
     "output_type": "execute_result"
    }
   ],
   "source": [
    "### TODO Complete in this cell: show number of columns per data type\n",
    "app_train[\"TARGET\"].value_counts()\n"
   ]
  },
  {
   "cell_type": "markdown",
   "id": "c0a8799e-d32a-4239-a85d-6ff29ab4682f",
   "metadata": {
    "id": "c0a8799e-d32a-4239-a85d-6ff29ab4682f"
   },
   "source": [
    "1.7. For categorical variables (`object` data type), show the number of distinct values in each column (number of labels).\n",
    "\n",
    "Just for giving you an idea, the output should look like this (not exactly the same numbers):\n",
    "\n",
    "```python\n",
    "NAME_CONTRACT_TYPE             5\n",
    "CODE_GENDER                    2\n",
    "FLAG_OWN_CAR                   1\n",
    "FLAG_OWN_REALTY                1\n",
    "...\n",
    "```"
   ]
  },
  {
   "cell_type": "code",
   "execution_count": 9,
   "id": "8b294976-dc0d-44bd-9bf6-29ba1f6a2e2b",
   "metadata": {
    "colab": {
     "base_uri": "https://localhost:8080/"
    },
    "executionInfo": {
     "elapsed": 302,
     "status": "ok",
     "timestamp": 1666034867708,
     "user": {
      "displayName": "Federico Morales",
      "userId": "06983145799989655383"
     },
     "user_tz": 180
    },
    "id": "8b294976-dc0d-44bd-9bf6-29ba1f6a2e2b",
    "outputId": "277be5a9-e286-4d82-956d-7af49e6112ec"
   },
   "outputs": [
    {
     "data": {
      "text/plain": [
       "NAME_CONTRACT_TYPE             2\n",
       "CODE_GENDER                    3\n",
       "FLAG_OWN_CAR                   2\n",
       "FLAG_OWN_REALTY                2\n",
       "NAME_TYPE_SUITE                7\n",
       "NAME_INCOME_TYPE               8\n",
       "NAME_EDUCATION_TYPE            5\n",
       "NAME_FAMILY_STATUS             6\n",
       "NAME_HOUSING_TYPE              6\n",
       "OCCUPATION_TYPE               18\n",
       "WEEKDAY_APPR_PROCESS_START     7\n",
       "ORGANIZATION_TYPE             58\n",
       "FONDKAPREMONT_MODE             4\n",
       "HOUSETYPE_MODE                 3\n",
       "WALLSMATERIAL_MODE             7\n",
       "EMERGENCYSTATE_MODE            2\n",
       "dtype: int64"
      ]
     },
     "execution_count": 9,
     "metadata": {},
     "output_type": "execute_result"
    }
   ],
   "source": [
    "### TODO Complete in this cell: show number of unique values per categorical column\n",
    "app_train.select_dtypes(include=\"object\").nunique()"
   ]
  },
  {
   "cell_type": "markdown",
   "id": "967d1938-e27d-4fbd-9bdc-f26364f5fdfd",
   "metadata": {
    "id": "967d1938-e27d-4fbd-9bdc-f26364f5fdfd"
   },
   "source": [
    "1.8. Analyzing missing data: show the percentage of missing data for each column ordered by percentage descending (show only the 20 columns with higher missing pct)\n",
    "\n",
    "Just for giving you an idea, the output should look like this (not exactly the same numbers and columns names):\n",
    "\n",
    "```python\n",
    "                   Total   Percent\n",
    "COMMONAREA_AVG    121000      85.2\n",
    "COMMONAREA_MODE   121000      76.6\n",
    "COMMONAREA_MEDI   121000      62.9\n",
    "...\n",
    "```"
   ]
  },
  {
   "cell_type": "code",
   "execution_count": 10,
   "id": "3f116b9c",
   "metadata": {},
   "outputs": [
    {
     "data": {
      "text/plain": [
       "SK_ID_CURR                        0\n",
       "TARGET                            0\n",
       "NAME_CONTRACT_TYPE                0\n",
       "CODE_GENDER                       0\n",
       "FLAG_OWN_CAR                      0\n",
       "                              ...  \n",
       "AMT_REQ_CREDIT_BUREAU_DAY     33234\n",
       "AMT_REQ_CREDIT_BUREAU_WEEK    33234\n",
       "AMT_REQ_CREDIT_BUREAU_MON     33234\n",
       "AMT_REQ_CREDIT_BUREAU_QRT     33234\n",
       "AMT_REQ_CREDIT_BUREAU_YEAR    33234\n",
       "Length: 122, dtype: int64"
      ]
     },
     "execution_count": 10,
     "metadata": {},
     "output_type": "execute_result"
    }
   ],
   "source": [
    "app_train.isna().sum()"
   ]
  },
  {
   "cell_type": "markdown",
   "id": "b57e7f5b",
   "metadata": {},
   "source": []
  },
  {
   "cell_type": "code",
   "execution_count": 11,
   "id": "0b65aa7e-d8a2-44b0-9803-ca5277471470",
   "metadata": {
    "colab": {
     "base_uri": "https://localhost:8080/",
     "height": 676
    },
    "executionInfo": {
     "elapsed": 604,
     "status": "ok",
     "timestamp": 1666034868311,
     "user": {
      "displayName": "Federico Morales",
      "userId": "06983145799989655383"
     },
     "user_tz": 180
    },
    "id": "0b65aa7e-d8a2-44b0-9803-ca5277471470",
    "outputId": "dca74fc2-8fd7-4d29-ef67-f58c3abf2e09",
    "scrolled": true
   },
   "outputs": [
    {
     "name": "stdout",
     "output_type": "stream",
     "text": [
      "                              Total    Percent\n",
      "AMT_ANNUITY                       8   0.003252\n",
      "AMT_GOODS_PRICE                 215   0.087396\n",
      "NAME_TYPE_SUITE                1033   0.419905\n",
      "OWN_CAR_AGE                  162503  66.055982\n",
      "OCCUPATION_TYPE               77119  31.348168\n",
      "CNT_FAM_MEMBERS                   1   0.000406\n",
      "EXT_SOURCE_1                 138730  56.392475\n",
      "EXT_SOURCE_2                    540   0.219505\n",
      "EXT_SOURCE_3                  48807  19.839599\n",
      "APARTMENTS_AVG               125194  50.890215\n",
      "BASEMENTAREA_AVG             144316  58.663133\n",
      "YEARS_BEGINEXPLUATATION_AVG  120343  48.918328\n",
      "YEARS_BUILD_AVG              163980  66.656369\n",
      "COMMONAREA_AVG               172189  69.993252\n",
      "ELEVATORS_AVG                131509  53.457205\n",
      "ENTRANCES_AVG                124224  50.495919\n",
      "FLOORSMAX_AVG                122774  49.906507\n",
      "FLOORSMIN_AVG                167255  67.987626\n",
      "LANDAREA_AVG                 146436  59.524893\n",
      "LIVINGAPARTMENTS_AVG         168494  68.491269\n"
     ]
    }
   ],
   "source": [
    "### TODO Complete in this cell: checking missing data\n",
    "missing_data = app_train.isna().sum().to_frame(name='Total')\n",
    "missing_data['Percent'] = 100 * missing_data['Total'] / len(app_train)\n",
    "missing_data = missing_data[missing_data['Percent'] > 0]  # Keep only columns with missing data\n",
    "\n",
    "print(missing_data.head(20))\n"
   ]
  },
  {
   "attachments": {},
   "cell_type": "markdown",
   "id": "783c5bb6-6b6d-4e34-bbe2-3a5dc319a4f0",
   "metadata": {
    "id": "783c5bb6-6b6d-4e34-bbe2-3a5dc319a4f0"
   },
   "source": [
    "#### Analyzing distribution of variables"
   ]
  },
  {
   "cell_type": "markdown",
   "id": "9c79d319-bde8-47a4-890d-6694edf221e2",
   "metadata": {
    "id": "9c79d319-bde8-47a4-890d-6694edf221e2"
   },
   "source": [
    "1.9. Show the distribution of credit amounts.\n",
    "\n",
    "*Hint:* Take a look at `AMT_CREDIT` column."
   ]
  },
  {
   "cell_type": "code",
   "execution_count": 12,
   "id": "bc953042-9744-498e-a435-fa660e76c70d",
   "metadata": {
    "colab": {
     "base_uri": "https://localhost:8080/",
     "height": 408
    },
    "executionInfo": {
     "elapsed": 2137,
     "status": "ok",
     "timestamp": 1666034870446,
     "user": {
      "displayName": "Federico Morales",
      "userId": "06983145799989655383"
     },
     "user_tz": 180
    },
    "id": "bc953042-9744-498e-a435-fa660e76c70d",
    "outputId": "28e9ab9e-788b-4ca8-e796-a672103d6045",
    "scrolled": false
   },
   "outputs": [
    {
     "data": {
      "text/plain": [
       "(count    2.460080e+05\n",
       " mean     5.991707e+05\n",
       " std      4.034845e+05\n",
       " min      4.500000e+04\n",
       " 25%      2.700000e+05\n",
       " 50%      5.124465e+05\n",
       " 75%      8.086500e+05\n",
       " max      4.050000e+06\n",
       " Name: AMT_CREDIT, dtype: float64,\n",
       " np.float64(512446.5))"
      ]
     },
     "execution_count": 12,
     "metadata": {},
     "output_type": "execute_result"
    }
   ],
   "source": [
    "### TODO Complete in this cell: distribution of credit amounts\n",
    "# Description\n",
    "app_train[\"AMT_CREDIT\"].describe(), app_train[\"AMT_CREDIT\"].median()"
   ]
  },
  {
   "cell_type": "code",
   "execution_count": 13,
   "id": "f258e14a",
   "metadata": {},
   "outputs": [
    {
     "data": {
      "image/png": "[encoded data removed]",
      "text/plain": [
       "<Figure size 1000x500 with 1 Axes>"
      ]
     },
     "metadata": {},
     "output_type": "display_data"
    }
   ],
   "source": [
    "plt.figure(figsize=(10,5))\n",
    "plt.hist(app_train['AMT_CREDIT'], bins=50, color='skyblue')\n",
    "plt.title('Distribution of Credit Amounts')\n",
    "plt.xlabel('Credit Amount')\n",
    "plt.ylabel('Number of Loans')\n",
    "plt.show()"
   ]
  },
  {
   "cell_type": "markdown",
   "id": "6621ffad",
   "metadata": {},
   "source": [
    "*- There is right skewness, it has a tail in the right*"
   ]
  },
  {
   "cell_type": "code",
   "execution_count": 14,
   "id": "23961b7b",
   "metadata": {},
   "outputs": [
    {
     "data": {
      "image/png": "[encoded data removed]",
      "text/plain": [
       "<Figure size 600x300 with 1 Axes>"
      ]
     },
     "metadata": {},
     "output_type": "display_data"
    }
   ],
   "source": [
    "plt.figure(figsize=(6,3))\n",
    "plt.boxplot(app_train['AMT_CREDIT'].dropna(), vert=False)\n",
    "plt.title('Credit Amount Distribution')\n",
    "plt.xlabel('Credit Amount')\n",
    "plt.show()"
   ]
  },
  {
   "cell_type": "markdown",
   "id": "bf2ae4ed",
   "metadata": {},
   "source": [
    "*- It's seems there outliers after 1.5 until 4.0 Credit Amount, considering the median is around 0.51 and me mean 0.59, We could calculate the amount of outlier and its percentage*"
   ]
  },
  {
   "cell_type": "code",
   "execution_count": 15,
   "id": "1437e1cd",
   "metadata": {},
   "outputs": [
    {
     "name": "stdout",
     "output_type": "stream",
     "text": [
      "Upper bound (IQR method): 1,616,625.00\n",
      "Number of outliers: 5,311\n",
      "Percentage of outliers: 2.16%\n",
      "\n",
      "Skewness: 1.24\n"
     ]
    }
   ],
   "source": [
    "# Import numpy for numerical operations (though not used here, often needed for calculations)\n",
    "import numpy as np\n",
    "\n",
    "# =============================================\n",
    "# CALCULATING QUARTILES AND IQR (Interquartile Range)\n",
    "# =============================================\n",
    "\n",
    "# Calculate the 25th percentile (Q1) - this is the value below which 25% of the data falls\n",
    "# For AMT_CREDIT, this is 270,000 based on your earlier describe() output\n",
    "Q1 = app_train['AMT_CREDIT'].quantile(0.25)\n",
    "\n",
    "# Calculate the 75th percentile (Q3) - value below which 75% of the data falls\n",
    "# For AMT_CREDIT, this is 808,650 based on your earlier output\n",
    "Q3 = app_train['AMT_CREDIT'].quantile(0.75)\n",
    "\n",
    "# Calculate IQR (Interquartile Range) - the range containing the middle 50% of data\n",
    "# IQR = Q3 - Q1 → 808,650 - 270,000 = 538,650 in your case\n",
    "IQR = Q3 - Q1\n",
    "\n",
    "# =============================================\n",
    "# DEFINING OUTLIER THRESHOLD\n",
    "# =============================================\n",
    "\n",
    "# Calculate upper bound using Tukey's Fences method (standard 1.5*IQR rule)\n",
    "# Any value above this is considered an outlier\n",
    "# Formula: Q3 + 1.5*IQR → 808,650 + (1.5 × 538,650) ≈ 1,616,625\n",
    "upper_bound = Q3 + 1.5 * IQR\n",
    "\n",
    "# =============================================\n",
    "# IDENTIFYING OUTLIER RECORDS\n",
    "# =============================================\n",
    "\n",
    "# Filter the DataFrame to only include records where AMT_CREDIT > upper_bound\n",
    "# This creates a new DataFrame containing only outlier records\n",
    "outliers = app_train[app_train['AMT_CREDIT'] > upper_bound]\n",
    "\n",
    "# Count how many outliers exist using len() on the outlier DataFrame\n",
    "num_outliers = len(outliers)\n",
    "\n",
    "# Get total number of records in the dataset for percentage calculation\n",
    "total_records = len(app_train)\n",
    "\n",
    "# Calculate percentage of outliers in the dataset\n",
    "# Formula: (number_of_outliers / total_records) × 100\n",
    "outlier_percentage = (num_outliers / total_records) * 100\n",
    "\n",
    "# =============================================\n",
    "# PRINTING RESULTS\n",
    "# =============================================\n",
    "\n",
    "# Format the upper bound with comma as thousand separator and 2 decimal places\n",
    "print(f\"Upper bound (IQR method): {upper_bound:,.2f}\")\n",
    "\n",
    "# Print number of outliers with thousand separator\n",
    "print(f\"Number of outliers: {num_outliers:,}\")\n",
    "\n",
    "# Print percentage with 2 decimal places\n",
    "print(f\"Percentage of outliers: {outlier_percentage:.2f}%\")\n",
    "\n",
    "# =============================================\n",
    "# ADDITIONAL SKEWNESS ANALYSIS\n",
    "# =============================================\n",
    "\n",
    "# Calculate skewness - measures asymmetry of the distribution\n",
    "# Positive value = right skew (long tail on right)\n",
    "# Negative value = left skew\n",
    "# Rule of thumb: >1 or <-1 indicates significant skew\n",
    "print(f\"\\nSkewness: {app_train['AMT_CREDIT'].skew():.2f}\")\n",
    "\n",
    "# Interpretation of skewness value:\n",
    "# 0 = perfectly symmetrical\n",
    "# 0-0.5 = approximately symmetric\n",
    "# 0.5-1 = moderately skewed\n",
    "# >1 = highly skewed"
   ]
  },
  {
   "cell_type": "markdown",
   "id": "e524232b",
   "metadata": {},
   "source": [
    "*- We could drop those outliers, its percentage is minimal*"
   ]
  },
  {
   "cell_type": "markdown",
   "id": "f4e7bf4a-25c7-47c0-aea8-ed916d8827f6",
   "metadata": {
    "id": "f4e7bf4a-25c7-47c0-aea8-ed916d8827f6"
   },
   "source": [
    "1.10. Plot the education level of the credit applicants, show the percentages of each category. Also print the total counts for each category.\n",
    "\n",
    "*Hint:* Take a look at `NAME_EDUCATION_TYPE` column."
   ]
  },
  {
   "cell_type": "code",
   "execution_count": 16,
   "id": "406d7d06-b21a-4938-8e3d-11798def489b",
   "metadata": {
    "colab": {
     "base_uri": "https://localhost:8080/",
     "height": 686
    },
    "executionInfo": {
     "elapsed": 6,
     "status": "ok",
     "timestamp": 1666034870446,
     "user": {
      "displayName": "Federico Morales",
      "userId": "06983145799989655383"
     },
     "user_tz": 180
    },
    "id": "406d7d06-b21a-4938-8e3d-11798def489b",
    "outputId": "41fa858b-e391-427a-9e2d-b21c97ec0993"
   },
   "outputs": [
    {
     "name": "stdout",
     "output_type": "stream",
     "text": [
      "                                Count  Percentage\n",
      "NAME_EDUCATION_TYPE                              \n",
      "Secondary / secondary special  174657   70.996472\n",
      "Higher education                59990   24.385386\n",
      "Incomplete higher                8248    3.352736\n",
      "Lower secondary                  2984    1.212969\n",
      "Academic degree                   129    0.052437\n"
     ]
    },
    {
     "data": {
      "image/png": "[encoded data removed]",
      "text/plain": [
       "<Figure size 1000x500 with 1 Axes>"
      ]
     },
     "metadata": {},
     "output_type": "display_data"
    }
   ],
   "source": [
    "### TODO Complete in this cell: level of education plot\n",
    "# 1. Get counts and percentages (one line)\n",
    "education_stats = app_train['NAME_EDUCATION_TYPE'].value_counts().to_frame('Count')\n",
    "education_stats['Percentage'] = (education_stats['Count'] / len(app_train)) * 100\n",
    "\n",
    "print(education_stats)\n",
    "\n",
    "# 2. Basic plot (3 lines)\n",
    "plt.figure(figsize=(10,5))\n",
    "app_train['NAME_EDUCATION_TYPE'].value_counts().plot(kind='barh', color='skyblue')\n",
    "plt.title('Applicant Education Levels')\n",
    "plt.show()"
   ]
  },
  {
   "cell_type": "markdown",
   "id": "78e17d30-acce-4b7f-bacc-af488cda3e7d",
   "metadata": {
    "id": "78e17d30-acce-4b7f-bacc-af488cda3e7d"
   },
   "source": [
    "1.11. Plot the distribution of ocupation of the loan applicants.\n",
    "\n",
    "*Hint:* Take a look at `OCCUPATION_TYPE` column."
   ]
  },
  {
   "cell_type": "code",
   "execution_count": 17,
   "id": "ec101d97-c77b-4e5d-b69f-7c2f8f652d8f",
   "metadata": {
    "colab": {
     "base_uri": "https://localhost:8080/",
     "height": 703
    },
    "executionInfo": {
     "elapsed": 687,
     "status": "ok",
     "timestamp": 1666034871130,
     "user": {
      "displayName": "Federico Morales",
      "userId": "06983145799989655383"
     },
     "user_tz": 180
    },
    "id": "ec101d97-c77b-4e5d-b69f-7c2f8f652d8f",
    "outputId": "50aee514-131b-47ed-dea7-0d4de24d5c6a",
    "scrolled": false
   },
   "outputs": [
    {
     "name": "stdout",
     "output_type": "stream",
     "text": [
      "                       Count  Percentage\n",
      "OCCUPATION_TYPE                         \n",
      "Laborers               44108        17.9\n",
      "Sales staff            25770        10.5\n",
      "Core staff             22041         9.0\n",
      "Managers               16992         6.9\n",
      "Drivers                14874         6.0\n",
      "High skill tech staff   8981         3.7\n",
      "Accountants             7915         3.2\n",
      "Medicine staff          6879         2.8\n",
      "Security staff          5364         2.2\n",
      "Cooking staff           4771         1.9\n",
      "Cleaning staff          3731         1.5\n",
      "Private service staff   2140         0.9\n",
      "Low-skill Laborers      1687         0.7\n",
      "Waiters/barmen staff    1094         0.4\n",
      "Secretaries             1043         0.4\n",
      "Realty agents            625         0.3\n",
      "IT staff                 443         0.2\n",
      "HR staff                 431         0.2\n"
     ]
    },
    {
     "data": {
      "image/png": "[encoded data removed]",
      "text/plain": [
       "<Figure size 1000x800 with 1 Axes>"
      ]
     },
     "metadata": {},
     "output_type": "display_data"
    }
   ],
   "source": [
    "### TODO Complete in this cell: ocupation of applicants\n",
    "# 1. Get counts and percentages (2 lines)\n",
    "occupation_stats = app_train['OCCUPATION_TYPE'].value_counts().to_frame('Count')\n",
    "occupation_stats['Percentage'] = (occupation_stats['Count'] / len(app_train) * 100).round(1)\n",
    "\n",
    "print(occupation_stats)\n",
    "\n",
    "# 2. Basic plot (3 lines)\n",
    "plt.figure(figsize=(10,8))  # Make taller to fit all categories\n",
    "occupation_stats['Count'].sort_values().plot(kind='barh', color='lightblue')\n",
    "plt.title('Loan Applicants by Occupation')\n",
    "plt.tight_layout()  # Prevents label cutoff\n",
    "plt.show()"
   ]
  },
  {
   "cell_type": "markdown",
   "id": "824b1bc0-4dad-4ce8-b574-cbae5984a589",
   "metadata": {
    "id": "824b1bc0-4dad-4ce8-b574-cbae5984a589"
   },
   "source": [
    "1.12. Plot the family status of the applicants.\n",
    "\n",
    "*Hint:* Take a look at `NAME_FAMILY_STATUS` column."
   ]
  },
  {
   "cell_type": "code",
   "execution_count": 18,
   "id": "95463328-4392-435e-a203-95e28998930b",
   "metadata": {
    "colab": {
     "base_uri": "https://localhost:8080/",
     "height": 593
    },
    "executionInfo": {
     "elapsed": 6,
     "status": "ok",
     "timestamp": 1666034871131,
     "user": {
      "displayName": "Federico Morales",
      "userId": "06983145799989655383"
     },
     "user_tz": 180
    },
    "id": "95463328-4392-435e-a203-95e28998930b",
    "outputId": "b19a8a5c-32e4-4408-e6c2-7b37beb52061"
   },
   "outputs": [
    {
     "name": "stdout",
     "output_type": "stream",
     "text": [
      "                       Count  Percentage\n",
      "NAME_FAMILY_STATUS                      \n",
      "Married               157165   63.886134\n",
      "Single / not married   36315   14.761715\n",
      "Civil marriage         23841    9.691148\n",
      "Separated              15803    6.423775\n",
      "Widow                  12883    5.236822\n",
      "Unknown                    1    0.000406\n"
     ]
    },
    {
     "data": {
      "image/png": "[encoded data removed]",
      "text/plain": [
       "<Figure size 1000x500 with 1 Axes>"
      ]
     },
     "metadata": {},
     "output_type": "display_data"
    }
   ],
   "source": [
    "### TODO Complete in this cell: family status\n",
    "# 1. Get counts and percentages (2 lines)\n",
    "family_stats = app_train['NAME_FAMILY_STATUS'].value_counts().to_frame('Count')\n",
    "family_stats['Percentage'] = (family_stats['Count'] / len(app_train))* 100\n",
    "\n",
    "# Print the stats (sorted by count)\n",
    "print(family_stats.sort_values('Count', ascending=False))\n",
    "\n",
    "# 2. Basic plot (3 lines)\n",
    "plt.figure(figsize=(10,5))\n",
    "family_stats['Count'].sort_values().plot(kind='barh', color='lightblue')\n",
    "plt.title('Applicants by Family Status')\n",
    "plt.show()\n"
   ]
  },
  {
   "cell_type": "markdown",
   "id": "efa77db6-a50a-454e-b1b2-83abe3c8baae",
   "metadata": {
    "id": "efa77db6-a50a-454e-b1b2-83abe3c8baae"
   },
   "source": [
    "1.13. Plot the income type of applicants grouped by the target variable.\n",
    "\n",
    "*Hint:* Take a look at `NAME_INCOME_TYPE` and `TARGET` columns. You can use `hue` parameter on Seaborn to group samples using another categorical feature."
   ]
  },
  {
   "cell_type": "code",
   "execution_count": 19,
   "id": "f22c3267-56c8-45fc-9184-b822cd026571",
   "metadata": {
    "colab": {
     "base_uri": "https://localhost:8080/",
     "height": 747
    },
    "executionInfo": {
     "elapsed": 3107,
     "status": "ok",
     "timestamp": 1666034874234,
     "user": {
      "displayName": "Federico Morales",
      "userId": "06983145799989655383"
     },
     "user_tz": 180
    },
    "id": "f22c3267-56c8-45fc-9184-b822cd026571",
    "outputId": "149ed35d-aa89-4988-8131-7b58a395d7f4",
    "scrolled": true
   },
   "outputs": [
    {
     "data": {
      "image/png": "[encoded data removed]",
      "text/plain": [
       "<Figure size 1200x600 with 1 Axes>"
      ]
     },
     "metadata": {},
     "output_type": "display_data"
    }
   ],
   "source": [
    "### TODO Complete in this cell: Income type of applicants by target variable\n",
    "# Set figure size\n",
    "plt.figure(figsize=(12,6))\n",
    "\n",
    "# Create countplot with hue\n",
    "ax = sns.countplot(\n",
    "    y='NAME_INCOME_TYPE', \n",
    "    hue='TARGET',\n",
    "    data=app_train,\n",
    "    palette={0:'lightblue', 1:'salmon'}  # Colors for non-default/default\n",
    ")\n",
    "\n",
    "# Add annotations\n",
    "for p in ax.patches:\n",
    "    width = p.get_width()\n",
    "    plt.text(width + 500, \n",
    "             p.get_y() + p.get_height()/2, \n",
    "             f'{int(width):,}', \n",
    "             va='center')\n",
    "\n",
    "plt.title('Income Types by Loan Repayment Status')\n",
    "plt.xlabel('Number of Applicants')\n",
    "plt.ylabel('Income Type')\n",
    "plt.legend(title='Repaid Loan?', labels=['Yes (0)', 'No (1)'])\n",
    "plt.tight_layout()\n",
    "plt.show()"
   ]
  },
  {
   "cell_type": "code",
   "execution_count": 20,
   "id": "43fbb6d4",
   "metadata": {},
   "outputs": [
    {
     "name": "stdout",
     "output_type": "stream",
     "text": [
      "\n",
      "Default Rates by Income Type:\n",
      "TARGET                         0          1\n",
      "NAME_INCOME_TYPE                           \n",
      "Unemployed             68.421053  31.578947\n",
      "Maternity leave        75.000000  25.000000\n",
      "Working                90.448024   9.551976\n",
      "Commercial associate   92.528414   7.471586\n",
      "State servant          94.321513   5.678487\n",
      "Pensioner              94.713049   5.286951\n",
      "Businessman           100.000000   0.000000\n",
      "Student               100.000000   0.000000\n"
     ]
    }
   ],
   "source": [
    "# Calculate percentages\n",
    "income_target = pd.crosstab(app_train['NAME_INCOME_TYPE'], app_train['TARGET'], normalize='index')*100\n",
    "print(\"\\nDefault Rates by Income Type:\")\n",
    "print(income_target.sort_values(1, ascending=False))"
   ]
  },
  {
   "cell_type": "markdown",
   "id": "675b1ae3-c943-4737-bdb8-2ecff733b27b",
   "metadata": {
    "id": "675b1ae3-c943-4737-bdb8-2ecff733b27b"
   },
   "source": [
    "## 2. Preprocessing"
   ]
  },
  {
   "attachments": {},
   "cell_type": "markdown",
   "id": "VvT_6ZEOztAQ",
   "metadata": {
    "id": "VvT_6ZEOztAQ"
   },
   "source": [
    "2.1. The next step will be to separate our train and test datasets columns between Features (the input to the model) and Targets (what the model has to predict with the given features).\n",
    "\n",
    "- Assign to `X_train` all the columns from `app_train` that should be used as features for training our models.\n",
    "- Assign to `y_train` the single column from `app_train` that should be used as our target (i.e. what we want to predict).\n",
    "- Assign to `X_test` all the columns from `app_test` that should be used as features for training our models.\n",
    "- Assign to `y_test` the single column from `app_test` that should be used as our target (i.e. what we want to predict).\n",
    "\n",
    "To do that, you will have to complete the function `data_utils.get_feature_target()` in all the parts with a `TODO` mark.\n"
   ]
  },
  {
   "cell_type": "markdown",
   "id": "wrkoywq9aNvJ",
   "metadata": {
    "id": "wrkoywq9aNvJ"
   },
   "source": [
    "**Don't change anything in this cell, just make it run correctly**"
   ]
  },
  {
   "cell_type": "code",
   "execution_count": 21,
   "id": "5F5UeGj1aNvJ",
   "metadata": {
    "colab": {
     "base_uri": "https://localhost:8080/"
    },
    "executionInfo": {
     "elapsed": 511,
     "status": "ok",
     "timestamp": 1670195363853,
     "user": {
      "displayName": "Jose Luis",
      "userId": "17952480099147442429"
     },
     "user_tz": 180
    },
    "id": "5F5UeGj1aNvJ",
    "outputId": "6ce8ac80-c09c-43dd-a537-cc7b25220efe"
   },
   "outputs": [
    {
     "name": "stdout",
     "output_type": "stream",
     "text": [
      "Success: X_train shape is correct!\n",
      "Success: X_train type is correct!\n",
      "Success: y_train shape is correct!\n",
      "Success: X_test shape is correct!\n",
      "Success: X_test type is correct!\n",
      "Success: y_test shape is correct!\n"
     ]
    }
   ],
   "source": [
    "# Now we execute the function above to get the result\n",
    "X_train, y_train, X_test, y_test = data_utils.get_feature_target(app_train, app_test)\n",
    "\n",
    "\n",
    "if X_train.shape == (246008, 121):\n",
    "    print(\"Success: X_train shape is correct!\")\n",
    "else:\n",
    "    raise ValueError(\"X_train dataset shape is incorrect, please review your code\")\n",
    "\n",
    "if isinstance(X_train, pd.DataFrame):\n",
    "    print(\"Success: X_train type is correct!\")\n",
    "else:\n",
    "    raise ValueError(\"Train dataset type is incorrect, please review your code\")\n",
    "\n",
    "if y_train.shape == (246008,) or y_train.shape == (246008, 1):\n",
    "    print(\"Success: y_train shape is correct!\")\n",
    "else:\n",
    "    raise ValueError(\"Train labels shape is incorrect, please review your code\")\n",
    "\n",
    "if X_test.shape == (61503, 121):\n",
    "    print(\"Success: X_test shape is correct!\")\n",
    "else:\n",
    "    raise ValueError(\"Test dataset shape is incorrect, please review your code\")\n",
    "\n",
    "if isinstance(X_test, pd.DataFrame):\n",
    "    print(\"Success: X_test type is correct!\")\n",
    "else:\n",
    "    raise ValueError(\"Test dataset type is incorrect, please review your code\")\n",
    "\n",
    "if y_test.shape == (61503,) or y_test.shape == (61503, 1):\n",
    "    print(\"Success: y_test shape is correct!\")\n",
    "else:\n",
    "    raise ValueError(\"Test labels shape is incorrect, please review your code\")"
   ]
  },
  {
   "attachments": {},
   "cell_type": "markdown",
   "id": "46078a39",
   "metadata": {},
   "source": [
    "2.2. In order to avoid overfitting while searching for the best model hyperparameters, it's always a good idea to split our training dataset into two new sets called `train` and `validation`. \n",
    "\n",
    "While the `train` data will be used to fit the model and adjust its internal weights, the `validation` will be exclusively used to test the model performance on unseen data during training, it's like a testing dataset used during experimentation.\n",
    "\n",
    "Remember we can't use the `test` dataset to validate the model performance because this one lacks of labels :( So the `validation` data will be the only resource you will have to evaluate the final model performance before doing your submission.\n",
    "\n",
    "To do that, you will have to complete the function `data_utils.get_train_val_sets()` in all the parts with a `TODO` mark.\n",
    "\n",
    "This function should perform these activities:\n",
    "- Use the `sklearn.model_selection.train_test_split` function with `X_train`, `y_train` datasets.\n",
    "- Assign only 20% of the dataset for testing (see `test_size` parameter in `train_test_split`)\n",
    "- Assign a seed so we get reproducible output across multiple function calls (see `random_state` parameter in `train_test_split`)\n",
    "- Shuffle the data (see `shuffle` parameter in `train_test_split`)\n",
    "\n",
    "For reference, see:\n",
    "- [Scikit-learn train_test_split](https://scikit-learn.org/stable/modules/generated/sklearn.model_selection.train_test_split.html)\n",
    "- [Wikipedia: Training, validation, and test data sets](https://en.wikipedia.org/wiki/Training,_validation,_and_test_data_sets)\n",
    "- [Train Test Validation Split: How To & Best Practices](https://www.v7labs.com/blog/train-validation-test-set)\n"
   ]
  },
  {
   "cell_type": "markdown",
   "id": "ec771222",
   "metadata": {},
   "source": [
    "**Don't change anything in this cell, just make it run correctly**"
   ]
  },
  {
   "cell_type": "code",
   "execution_count": 22,
   "id": "07d31b26",
   "metadata": {},
   "outputs": [
    {
     "name": "stdout",
     "output_type": "stream",
     "text": [
      "Success: X_train shape is correct!\n",
      "Success: X_train type is correct!\n",
      "Success: y_train shape is correct!\n",
      "Success: X_test shape is correct!\n",
      "Success: X_test type is correct!\n",
      "Success: y_test shape is correct!\n"
     ]
    }
   ],
   "source": [
    "# Now we execute the function above to get the result\n",
    "X_train, X_val, y_train, y_val = data_utils.get_train_val_sets(X_train, y_train)\n",
    "\n",
    "\n",
    "if X_train.shape == (196806, 121):\n",
    "    print(\"Success: X_train shape is correct!\")\n",
    "else:\n",
    "    raise ValueError(\"X_train dataset shape is incorrect, please review your code\")\n",
    "\n",
    "if isinstance(X_train, pd.DataFrame):\n",
    "    print(\"Success: X_train type is correct!\")\n",
    "else:\n",
    "    raise ValueError(\"Train dataset type is incorrect, please review your code\")\n",
    "\n",
    "if y_train.shape == (196806,) or y_train.shape == (196806, 1):\n",
    "    print(\"Success: y_train shape is correct!\")\n",
    "else:\n",
    "    raise ValueError(\"Train labels shape is incorrect, please review your code\")\n",
    "\n",
    "if X_val.shape == (49202, 121):\n",
    "    print(\"Success: X_test shape is correct!\")\n",
    "else:\n",
    "    raise ValueError(\"Test dataset shape is incorrect, please review your code\")\n",
    "\n",
    "if isinstance(X_val, pd.DataFrame):\n",
    "    print(\"Success: X_test type is correct!\")\n",
    "else:\n",
    "    raise ValueError(\"Test dataset type is incorrect, please review your code\")\n",
    "\n",
    "if y_val.shape == (49202,) or y_val.shape == (49202, 1):\n",
    "    print(\"Success: y_test shape is correct!\")\n",
    "else:\n",
    "    raise ValueError(\"Test labels shape is incorrect, please review your code\")"
   ]
  },
  {
   "attachments": {},
   "cell_type": "markdown",
   "id": "51397c38-0204-454b-8fe6-011dc8c38418",
   "metadata": {
    "id": "51397c38-0204-454b-8fe6-011dc8c38418"
   },
   "source": [
    "2.3. In this section, you will code a function to make all the data pre-processing for the dataset. What you have to deliver is a function that takes `X_train`, `X_val`, and `X_test` dataframes, processes all features, and returns the transformed data as numpy arrays ready to be used for training.\n",
    "\n",
    "The function should perform these activities, in this order:\n",
    "\n",
    "1. Correct outliers/anomalous values in numerical columns (`DAYS_EMPLOYED` column)\n",
    "2. Encode string categorical features (dytpe `object`):\n",
    "    - If the feature has 2 categories encode using binary encoding\n",
    "    - More than 2 categories, use one hot encoding \n",
    "3. Impute values for all columns with missing data (use median as imputing value)\n",
    "4. Feature scaling with Min-Max scaler.\n",
    "\n",
    "Complete the function `preprocessing.preprocess_data()` following the instructions given above."
   ]
  },
  {
   "attachments": {},
   "cell_type": "markdown",
   "id": "-1YXG39vc2qX",
   "metadata": {
    "id": "-1YXG39vc2qX"
   },
   "source": [
    "In the following cell, we are going to execute the preprocessing function you've just coded. No need to modify this.\n",
    "\n",
    "**Important Note:** From now on, you must always use `train_data` for training your models and `val_data` only for the final evaluation of the model trained. About `test_data`, it will be used at the end only for submitting your final model predictions and be evaluated on our side with the hidden annotations.\n"
   ]
  },
  {
   "cell_type": "markdown",
   "id": "mMkqwi0gd7a8",
   "metadata": {
    "id": "mMkqwi0gd7a8"
   },
   "source": [
    "**Don't change anything in this cell, just make it run correctly**"
   ]
  },
  {
   "cell_type": "code",
   "execution_count": 23,
   "id": "766c2d98",
   "metadata": {},
   "outputs": [
    {
     "data": {
      "text/html": [
       "<div>\n",
       "<style scoped>\n",
       "    .dataframe tbody tr th:only-of-type {\n",
       "        vertical-align: middle;\n",
       "    }\n",
       "\n",
       "    .dataframe tbody tr th {\n",
       "        vertical-align: top;\n",
       "    }\n",
       "\n",
       "    .dataframe thead th {\n",
       "        text-align: right;\n",
       "    }\n",
       "</style>\n",
       "<table border=\"1\" class=\"dataframe\">\n",
       "  <thead>\n",
       "    <tr style=\"text-align: right;\">\n",
       "      <th></th>\n",
       "      <th>SK_ID_CURR</th>\n",
       "      <th>NAME_CONTRACT_TYPE</th>\n",
       "      <th>CODE_GENDER</th>\n",
       "      <th>FLAG_OWN_CAR</th>\n",
       "      <th>FLAG_OWN_REALTY</th>\n",
       "      <th>CNT_CHILDREN</th>\n",
       "      <th>AMT_INCOME_TOTAL</th>\n",
       "      <th>AMT_CREDIT</th>\n",
       "      <th>AMT_ANNUITY</th>\n",
       "      <th>AMT_GOODS_PRICE</th>\n",
       "      <th>...</th>\n",
       "      <th>FLAG_DOCUMENT_18</th>\n",
       "      <th>FLAG_DOCUMENT_19</th>\n",
       "      <th>FLAG_DOCUMENT_20</th>\n",
       "      <th>FLAG_DOCUMENT_21</th>\n",
       "      <th>AMT_REQ_CREDIT_BUREAU_HOUR</th>\n",
       "      <th>AMT_REQ_CREDIT_BUREAU_DAY</th>\n",
       "      <th>AMT_REQ_CREDIT_BUREAU_WEEK</th>\n",
       "      <th>AMT_REQ_CREDIT_BUREAU_MON</th>\n",
       "      <th>AMT_REQ_CREDIT_BUREAU_QRT</th>\n",
       "      <th>AMT_REQ_CREDIT_BUREAU_YEAR</th>\n",
       "    </tr>\n",
       "  </thead>\n",
       "  <tbody>\n",
       "    <tr>\n",
       "      <th>161368</th>\n",
       "      <td>210530</td>\n",
       "      <td>Cash loans</td>\n",
       "      <td>F</td>\n",
       "      <td>N</td>\n",
       "      <td>Y</td>\n",
       "      <td>0</td>\n",
       "      <td>180000.0</td>\n",
       "      <td>824823.0</td>\n",
       "      <td>29353.5</td>\n",
       "      <td>688500.0</td>\n",
       "      <td>...</td>\n",
       "      <td>0</td>\n",
       "      <td>0</td>\n",
       "      <td>0</td>\n",
       "      <td>0</td>\n",
       "      <td>0.0</td>\n",
       "      <td>0.0</td>\n",
       "      <td>0.0</td>\n",
       "      <td>0.0</td>\n",
       "      <td>1.0</td>\n",
       "      <td>2.0</td>\n",
       "    </tr>\n",
       "    <tr>\n",
       "      <th>177644</th>\n",
       "      <td>181647</td>\n",
       "      <td>Cash loans</td>\n",
       "      <td>M</td>\n",
       "      <td>Y</td>\n",
       "      <td>N</td>\n",
       "      <td>0</td>\n",
       "      <td>225000.0</td>\n",
       "      <td>643500.0</td>\n",
       "      <td>24934.5</td>\n",
       "      <td>643500.0</td>\n",
       "      <td>...</td>\n",
       "      <td>0</td>\n",
       "      <td>0</td>\n",
       "      <td>0</td>\n",
       "      <td>0</td>\n",
       "      <td>0.0</td>\n",
       "      <td>0.0</td>\n",
       "      <td>0.0</td>\n",
       "      <td>1.0</td>\n",
       "      <td>0.0</td>\n",
       "      <td>2.0</td>\n",
       "    </tr>\n",
       "    <tr>\n",
       "      <th>42295</th>\n",
       "      <td>439708</td>\n",
       "      <td>Revolving loans</td>\n",
       "      <td>F</td>\n",
       "      <td>N</td>\n",
       "      <td>Y</td>\n",
       "      <td>1</td>\n",
       "      <td>135000.0</td>\n",
       "      <td>270000.0</td>\n",
       "      <td>13500.0</td>\n",
       "      <td>270000.0</td>\n",
       "      <td>...</td>\n",
       "      <td>0</td>\n",
       "      <td>0</td>\n",
       "      <td>0</td>\n",
       "      <td>0</td>\n",
       "      <td>0.0</td>\n",
       "      <td>0.0</td>\n",
       "      <td>0.0</td>\n",
       "      <td>2.0</td>\n",
       "      <td>0.0</td>\n",
       "      <td>1.0</td>\n",
       "    </tr>\n",
       "    <tr>\n",
       "      <th>161674</th>\n",
       "      <td>216100</td>\n",
       "      <td>Cash loans</td>\n",
       "      <td>M</td>\n",
       "      <td>Y</td>\n",
       "      <td>Y</td>\n",
       "      <td>0</td>\n",
       "      <td>247500.0</td>\n",
       "      <td>545040.0</td>\n",
       "      <td>26640.0</td>\n",
       "      <td>450000.0</td>\n",
       "      <td>...</td>\n",
       "      <td>0</td>\n",
       "      <td>0</td>\n",
       "      <td>0</td>\n",
       "      <td>0</td>\n",
       "      <td>0.0</td>\n",
       "      <td>0.0</td>\n",
       "      <td>0.0</td>\n",
       "      <td>0.0</td>\n",
       "      <td>0.0</td>\n",
       "      <td>3.0</td>\n",
       "    </tr>\n",
       "    <tr>\n",
       "      <th>235457</th>\n",
       "      <td>303234</td>\n",
       "      <td>Cash loans</td>\n",
       "      <td>M</td>\n",
       "      <td>N</td>\n",
       "      <td>Y</td>\n",
       "      <td>0</td>\n",
       "      <td>67500.0</td>\n",
       "      <td>545040.0</td>\n",
       "      <td>26640.0</td>\n",
       "      <td>450000.0</td>\n",
       "      <td>...</td>\n",
       "      <td>0</td>\n",
       "      <td>0</td>\n",
       "      <td>0</td>\n",
       "      <td>0</td>\n",
       "      <td>NaN</td>\n",
       "      <td>NaN</td>\n",
       "      <td>NaN</td>\n",
       "      <td>NaN</td>\n",
       "      <td>NaN</td>\n",
       "      <td>NaN</td>\n",
       "    </tr>\n",
       "    <tr>\n",
       "      <th>...</th>\n",
       "      <td>...</td>\n",
       "      <td>...</td>\n",
       "      <td>...</td>\n",
       "      <td>...</td>\n",
       "      <td>...</td>\n",
       "      <td>...</td>\n",
       "      <td>...</td>\n",
       "      <td>...</td>\n",
       "      <td>...</td>\n",
       "      <td>...</td>\n",
       "      <td>...</td>\n",
       "      <td>...</td>\n",
       "      <td>...</td>\n",
       "      <td>...</td>\n",
       "      <td>...</td>\n",
       "      <td>...</td>\n",
       "      <td>...</td>\n",
       "      <td>...</td>\n",
       "      <td>...</td>\n",
       "      <td>...</td>\n",
       "      <td>...</td>\n",
       "    </tr>\n",
       "    <tr>\n",
       "      <th>173604</th>\n",
       "      <td>435182</td>\n",
       "      <td>Cash loans</td>\n",
       "      <td>M</td>\n",
       "      <td>Y</td>\n",
       "      <td>N</td>\n",
       "      <td>0</td>\n",
       "      <td>121500.0</td>\n",
       "      <td>314100.0</td>\n",
       "      <td>21375.0</td>\n",
       "      <td>225000.0</td>\n",
       "      <td>...</td>\n",
       "      <td>0</td>\n",
       "      <td>0</td>\n",
       "      <td>0</td>\n",
       "      <td>0</td>\n",
       "      <td>NaN</td>\n",
       "      <td>NaN</td>\n",
       "      <td>NaN</td>\n",
       "      <td>NaN</td>\n",
       "      <td>NaN</td>\n",
       "      <td>NaN</td>\n",
       "    </tr>\n",
       "    <tr>\n",
       "      <th>20648</th>\n",
       "      <td>265573</td>\n",
       "      <td>Cash loans</td>\n",
       "      <td>M</td>\n",
       "      <td>Y</td>\n",
       "      <td>Y</td>\n",
       "      <td>0</td>\n",
       "      <td>157500.0</td>\n",
       "      <td>948096.0</td>\n",
       "      <td>31464.0</td>\n",
       "      <td>720000.0</td>\n",
       "      <td>...</td>\n",
       "      <td>0</td>\n",
       "      <td>0</td>\n",
       "      <td>0</td>\n",
       "      <td>0</td>\n",
       "      <td>0.0</td>\n",
       "      <td>0.0</td>\n",
       "      <td>0.0</td>\n",
       "      <td>0.0</td>\n",
       "      <td>0.0</td>\n",
       "      <td>2.0</td>\n",
       "    </tr>\n",
       "    <tr>\n",
       "      <th>134933</th>\n",
       "      <td>171763</td>\n",
       "      <td>Cash loans</td>\n",
       "      <td>M</td>\n",
       "      <td>Y</td>\n",
       "      <td>Y</td>\n",
       "      <td>2</td>\n",
       "      <td>225000.0</td>\n",
       "      <td>781920.0</td>\n",
       "      <td>39924.0</td>\n",
       "      <td>675000.0</td>\n",
       "      <td>...</td>\n",
       "      <td>0</td>\n",
       "      <td>0</td>\n",
       "      <td>0</td>\n",
       "      <td>0</td>\n",
       "      <td>0.0</td>\n",
       "      <td>0.0</td>\n",
       "      <td>0.0</td>\n",
       "      <td>1.0</td>\n",
       "      <td>1.0</td>\n",
       "      <td>1.0</td>\n",
       "    </tr>\n",
       "    <tr>\n",
       "      <th>228340</th>\n",
       "      <td>123326</td>\n",
       "      <td>Cash loans</td>\n",
       "      <td>F</td>\n",
       "      <td>N</td>\n",
       "      <td>Y</td>\n",
       "      <td>0</td>\n",
       "      <td>49500.0</td>\n",
       "      <td>619965.0</td>\n",
       "      <td>18256.5</td>\n",
       "      <td>517500.0</td>\n",
       "      <td>...</td>\n",
       "      <td>0</td>\n",
       "      <td>0</td>\n",
       "      <td>0</td>\n",
       "      <td>0</td>\n",
       "      <td>0.0</td>\n",
       "      <td>0.0</td>\n",
       "      <td>0.0</td>\n",
       "      <td>1.0</td>\n",
       "      <td>0.0</td>\n",
       "      <td>2.0</td>\n",
       "    </tr>\n",
       "    <tr>\n",
       "      <th>59213</th>\n",
       "      <td>325240</td>\n",
       "      <td>Cash loans</td>\n",
       "      <td>F</td>\n",
       "      <td>N</td>\n",
       "      <td>N</td>\n",
       "      <td>0</td>\n",
       "      <td>207000.0</td>\n",
       "      <td>521280.0</td>\n",
       "      <td>19449.0</td>\n",
       "      <td>450000.0</td>\n",
       "      <td>...</td>\n",
       "      <td>0</td>\n",
       "      <td>0</td>\n",
       "      <td>0</td>\n",
       "      <td>0</td>\n",
       "      <td>0.0</td>\n",
       "      <td>0.0</td>\n",
       "      <td>0.0</td>\n",
       "      <td>0.0</td>\n",
       "      <td>0.0</td>\n",
       "      <td>0.0</td>\n",
       "    </tr>\n",
       "  </tbody>\n",
       "</table>\n",
       "<p>49202 rows × 121 columns</p>\n",
       "</div>"
      ],
      "text/plain": [
       "        SK_ID_CURR NAME_CONTRACT_TYPE CODE_GENDER FLAG_OWN_CAR  \\\n",
       "161368      210530         Cash loans           F            N   \n",
       "177644      181647         Cash loans           M            Y   \n",
       "42295       439708    Revolving loans           F            N   \n",
       "161674      216100         Cash loans           M            Y   \n",
       "235457      303234         Cash loans           M            N   \n",
       "...            ...                ...         ...          ...   \n",
       "173604      435182         Cash loans           M            Y   \n",
       "20648       265573         Cash loans           M            Y   \n",
       "134933      171763         Cash loans           M            Y   \n",
       "228340      123326         Cash loans           F            N   \n",
       "59213       325240         Cash loans           F            N   \n",
       "\n",
       "       FLAG_OWN_REALTY  CNT_CHILDREN  AMT_INCOME_TOTAL  AMT_CREDIT  \\\n",
       "161368               Y             0          180000.0    824823.0   \n",
       "177644               N             0          225000.0    643500.0   \n",
       "42295                Y             1          135000.0    270000.0   \n",
       "161674               Y             0          247500.0    545040.0   \n",
       "235457               Y             0           67500.0    545040.0   \n",
       "...                ...           ...               ...         ...   \n",
       "173604               N             0          121500.0    314100.0   \n",
       "20648                Y             0          157500.0    948096.0   \n",
       "134933               Y             2          225000.0    781920.0   \n",
       "228340               Y             0           49500.0    619965.0   \n",
       "59213                N             0          207000.0    521280.0   \n",
       "\n",
       "        AMT_ANNUITY  AMT_GOODS_PRICE  ... FLAG_DOCUMENT_18 FLAG_DOCUMENT_19  \\\n",
       "161368      29353.5         688500.0  ...                0                0   \n",
       "177644      24934.5         643500.0  ...                0                0   \n",
       "42295       13500.0         270000.0  ...                0                0   \n",
       "161674      26640.0         450000.0  ...                0                0   \n",
       "235457      26640.0         450000.0  ...                0                0   \n",
       "...             ...              ...  ...              ...              ...   \n",
       "173604      21375.0         225000.0  ...                0                0   \n",
       "20648       31464.0         720000.0  ...                0                0   \n",
       "134933      39924.0         675000.0  ...                0                0   \n",
       "228340      18256.5         517500.0  ...                0                0   \n",
       "59213       19449.0         450000.0  ...                0                0   \n",
       "\n",
       "       FLAG_DOCUMENT_20 FLAG_DOCUMENT_21 AMT_REQ_CREDIT_BUREAU_HOUR  \\\n",
       "161368                0                0                        0.0   \n",
       "177644                0                0                        0.0   \n",
       "42295                 0                0                        0.0   \n",
       "161674                0                0                        0.0   \n",
       "235457                0                0                        NaN   \n",
       "...                 ...              ...                        ...   \n",
       "173604                0                0                        NaN   \n",
       "20648                 0                0                        0.0   \n",
       "134933                0                0                        0.0   \n",
       "228340                0                0                        0.0   \n",
       "59213                 0                0                        0.0   \n",
       "\n",
       "        AMT_REQ_CREDIT_BUREAU_DAY  AMT_REQ_CREDIT_BUREAU_WEEK  \\\n",
       "161368                        0.0                         0.0   \n",
       "177644                        0.0                         0.0   \n",
       "42295                         0.0                         0.0   \n",
       "161674                        0.0                         0.0   \n",
       "235457                        NaN                         NaN   \n",
       "...                           ...                         ...   \n",
       "173604                        NaN                         NaN   \n",
       "20648                         0.0                         0.0   \n",
       "134933                        0.0                         0.0   \n",
       "228340                        0.0                         0.0   \n",
       "59213                         0.0                         0.0   \n",
       "\n",
       "        AMT_REQ_CREDIT_BUREAU_MON  AMT_REQ_CREDIT_BUREAU_QRT  \\\n",
       "161368                        0.0                        1.0   \n",
       "177644                        1.0                        0.0   \n",
       "42295                         2.0                        0.0   \n",
       "161674                        0.0                        0.0   \n",
       "235457                        NaN                        NaN   \n",
       "...                           ...                        ...   \n",
       "173604                        NaN                        NaN   \n",
       "20648                         0.0                        0.0   \n",
       "134933                        1.0                        1.0   \n",
       "228340                        1.0                        0.0   \n",
       "59213                         0.0                        0.0   \n",
       "\n",
       "        AMT_REQ_CREDIT_BUREAU_YEAR  \n",
       "161368                         2.0  \n",
       "177644                         2.0  \n",
       "42295                          1.0  \n",
       "161674                         3.0  \n",
       "235457                         NaN  \n",
       "...                            ...  \n",
       "173604                         NaN  \n",
       "20648                          2.0  \n",
       "134933                         1.0  \n",
       "228340                         2.0  \n",
       "59213                          0.0  \n",
       "\n",
       "[49202 rows x 121 columns]"
      ]
     },
     "execution_count": 23,
     "metadata": {},
     "output_type": "execute_result"
    }
   ],
   "source": [
    "X_val"
   ]
  },
  {
   "cell_type": "code",
   "execution_count": 24,
   "id": "whWcb5jtcyYe",
   "metadata": {
    "colab": {
     "base_uri": "https://localhost:8080/"
    },
    "executionInfo": {
     "elapsed": 315,
     "status": "ok",
     "timestamp": 1670195395495,
     "user": {
      "displayName": "Jose Luis",
      "userId": "17952480099147442429"
     },
     "user_tz": 180
    },
    "id": "whWcb5jtcyYe",
    "outputId": "5bb07f0e-a0b6-4773-94b1-97c5f2ccd053"
   },
   "outputs": [
    {
     "name": "stdout",
     "output_type": "stream",
     "text": [
      "Input train data shape:  (196806, 121)\n",
      "Input val data shape:  (49202, 121)\n",
      "Input test data shape:  (61503, 121) \n",
      "\n"
     ]
    },
    {
     "name": "stderr",
     "output_type": "stream",
     "text": [
      "/home/franco/Documents/Github/Anyone/Sprint_2/Neural-Networks-automation/src/preprocessing.py:39: FutureWarning: A value is trying to be set on a copy of a DataFrame or Series through chained assignment using an inplace method.\n",
      "The behavior will change in pandas 3.0. This inplace method will never work because the intermediate object on which we are setting values always behaves as a copy.\n",
      "\n",
      "For example, when doing 'df[col].method(value, inplace=True)', try using 'df.method({col: value}, inplace=True)' or df[col] = df[col].method(value) instead, to perform the operation inplace on the original object.\n",
      "\n",
      "\n",
      "  working_train_df[\"DAYS_EMPLOYED\"].replace({365243: np.nan}, inplace=True)\n",
      "/home/franco/Documents/Github/Anyone/Sprint_2/Neural-Networks-automation/src/preprocessing.py:40: FutureWarning: A value is trying to be set on a copy of a DataFrame or Series through chained assignment using an inplace method.\n",
      "The behavior will change in pandas 3.0. This inplace method will never work because the intermediate object on which we are setting values always behaves as a copy.\n",
      "\n",
      "For example, when doing 'df[col].method(value, inplace=True)', try using 'df.method({col: value}, inplace=True)' or df[col] = df[col].method(value) instead, to perform the operation inplace on the original object.\n",
      "\n",
      "\n",
      "  working_val_df[\"DAYS_EMPLOYED\"].replace({365243: np.nan}, inplace=True)\n",
      "/home/franco/Documents/Github/Anyone/Sprint_2/Neural-Networks-automation/src/preprocessing.py:41: FutureWarning: A value is trying to be set on a copy of a DataFrame or Series through chained assignment using an inplace method.\n",
      "The behavior will change in pandas 3.0. This inplace method will never work because the intermediate object on which we are setting values always behaves as a copy.\n",
      "\n",
      "For example, when doing 'df[col].method(value, inplace=True)', try using 'df.method({col: value}, inplace=True)' or df[col] = df[col].method(value) instead, to perform the operation inplace on the original object.\n",
      "\n",
      "\n",
      "  working_test_df[\"DAYS_EMPLOYED\"].replace({365243: np.nan}, inplace=True)\n"
     ]
    },
    {
     "name": "stdout",
     "output_type": "stream",
     "text": [
      "Processed train data shape:  (196806, 246)\n",
      "Processed val data shape:  (49202, 246)\n",
      "Processed test data shape:  (61503, 246) \n",
      "\n",
      "Success: train_data shape is correct!\n",
      "Success: train_data type is correct!\n",
      "Success: val_data shape is correct!\n",
      "Success: val_data type is correct!\n",
      "Success: test_data shape is correct!\n",
      "Success: test_data type is correct!\n"
     ]
    }
   ],
   "source": [
    "train_data, val_data, test_data = preprocessing.preprocess_data(X_train, X_val, X_test)\n",
    "\n",
    "\n",
    "if train_data.shape == (196806, 246):\n",
    "    print(\"Success: train_data shape is correct!\")\n",
    "else:\n",
    "    raise ValueError(\"train_data dataset shape is incorrect, please review your code\")\n",
    "\n",
    "if isinstance(train_data, np.ndarray):\n",
    "    print(\"Success: train_data type is correct!\")\n",
    "else:\n",
    "    raise ValueError(\"Train dataset type is incorrect, please review your code\")\n",
    "\n",
    "if val_data.shape == (49202, 246):\n",
    "    print(\"Success: val_data shape is correct!\")\n",
    "else:\n",
    "    raise ValueError(\"val_data dataset shape is incorrect, please review your code\")\n",
    "\n",
    "if isinstance(val_data, np.ndarray):\n",
    "    print(\"Success: val_data type is correct!\")\n",
    "else:\n",
    "    raise ValueError(\"Validation dataset type is incorrect, please review your code\")\n",
    "\n",
    "if test_data.shape == (61503, 246):\n",
    "    print(\"Success: test_data shape is correct!\")\n",
    "else:\n",
    "    raise ValueError(\"test_data dataset shape is incorrect, please review your code\")\n",
    "\n",
    "if isinstance(test_data, np.ndarray):\n",
    "    print(\"Success: test_data type is correct!\")\n",
    "else:\n",
    "    raise ValueError(\"Test dataset type is incorrect, please review your code\")"
   ]
  },
  {
   "cell_type": "markdown",
   "id": "2f5df1e8-1f03-4f14-9dbd-292d3b84859d",
   "metadata": {
    "id": "2f5df1e8-1f03-4f14-9dbd-292d3b84859d"
   },
   "source": [
    "## 3. Training Models"
   ]
  },
  {
   "cell_type": "markdown",
   "id": "83062f02-7157-4083-b57b-78fbc95fe39b",
   "metadata": {
    "id": "83062f02-7157-4083-b57b-78fbc95fe39b"
   },
   "source": [
    "As usual, you will start training simple models and will progressively move to more complex models and pipelines.\n",
    "\n",
    "**Pro tip:** It is of utmost importance to make an accurate estimation of the time required to train a machine learning model. Because of this, we recommend you to use Python [time](https://docs.python.org/3/library/time.html) library or Jupyter magic function `%%time` on the cell you're training your model to get an estimate of the time it took to fit your data."
   ]
  },
  {
   "cell_type": "markdown",
   "id": "7e99a786-a17e-4caa-9ac7-48fced40fa71",
   "metadata": {
    "id": "7e99a786-a17e-4caa-9ac7-48fced40fa71"
   },
   "source": [
    "### Baseline: LogisticRegression"
   ]
  },
  {
   "cell_type": "markdown",
   "id": "91e10796-6d86-4fce-8738-4b9c4fbbf359",
   "metadata": {
    "id": "91e10796-6d86-4fce-8738-4b9c4fbbf359"
   },
   "source": [
    "3.1. Import LogisticRegression from sklearn and train a model using the preprocesed train data from the previous section, and just default parameters. If you receive a warning because the algorithm failed to converge, try increasing the number of iterations or decreasing the C parameter.\n",
    "\n",
    "Assign the trained model to `log_reg` variable."
   ]
  },
  {
   "cell_type": "markdown",
   "id": "2OTXvqibhqid",
   "metadata": {
    "id": "2OTXvqibhqid"
   },
   "source": [
    "**Don't change anything in this cell, just make it run correctly**"
   ]
  },
  {
   "cell_type": "code",
   "execution_count": 25,
   "id": "ef64563b",
   "metadata": {},
   "outputs": [
    {
     "name": "stdout",
     "output_type": "stream",
     "text": [
      "CPU times: user 12.1 s, sys: 64.2 ms, total: 12.2 s\n",
      "Wall time: 1.89 s\n"
     ]
    },
    {
     "data": {
      "text/html": [
       "<style>#sk-container-id-1 {\n",
       "  /* Definition of color scheme common for light and dark mode */\n",
       "  --sklearn-color-text: #000;\n",
       "  --sklearn-color-text-muted: #666;\n",
       "  --sklearn-color-line: gray;\n",
       "  /* Definition of color scheme for unfitted estimators */\n",
       "  --sklearn-color-unfitted-level-0: #fff5e6;\n",
       "  --sklearn-color-unfitted-level-1: #f6e4d2;\n",
       "  --sklearn-color-unfitted-level-2: #ffe0b3;\n",
       "  --sklearn-color-unfitted-level-3: chocolate;\n",
       "  /* Definition of color scheme for fitted estimators */\n",
       "  --sklearn-color-fitted-level-0: #f0f8ff;\n",
       "  --sklearn-color-fitted-level-1: #d4ebff;\n",
       "  --sklearn-color-fitted-level-2: #b3dbfd;\n",
       "  --sklearn-color-fitted-level-3: cornflowerblue;\n",
       "\n",
       "  /* Specific color for light theme */\n",
       "  --sklearn-color-text-on-default-background: var(--sg-text-color, var(--theme-code-foreground, var(--jp-content-font-color1, black)));\n",
       "  --sklearn-color-background: var(--sg-background-color, var(--theme-background, var(--jp-layout-color0, white)));\n",
       "  --sklearn-color-border-box: var(--sg-text-color, var(--theme-code-foreground, var(--jp-content-font-color1, black)));\n",
       "  --sklearn-color-icon: #696969;\n",
       "\n",
       "  @media (prefers-color-scheme: dark) {\n",
       "    /* Redefinition of color scheme for dark theme */\n",
       "    --sklearn-color-text-on-default-background: var(--sg-text-color, var(--theme-code-foreground, var(--jp-content-font-color1, white)));\n",
       "    --sklearn-color-background: var(--sg-background-color, var(--theme-background, var(--jp-layout-color0, #111)));\n",
       "    --sklearn-color-border-box: var(--sg-text-color, var(--theme-code-foreground, var(--jp-content-font-color1, white)));\n",
       "    --sklearn-color-icon: #878787;\n",
       "  }\n",
       "}\n",
       "\n",
       "#sk-container-id-1 {\n",
       "  color: var(--sklearn-color-text);\n",
       "}\n",
       "\n",
       "#sk-container-id-1 pre {\n",
       "  padding: 0;\n",
       "}\n",
       "\n",
       "#sk-container-id-1 input.sk-hidden--visually {\n",
       "  border: 0;\n",
       "  clip: rect(1px 1px 1px 1px);\n",
       "  clip: rect(1px, 1px, 1px, 1px);\n",
       "  height: 1px;\n",
       "  margin: -1px;\n",
       "  overflow: hidden;\n",
       "  padding: 0;\n",
       "  position: absolute;\n",
       "  width: 1px;\n",
       "}\n",
       "\n",
       "#sk-container-id-1 div.sk-dashed-wrapped {\n",
       "  border: 1px dashed var(--sklearn-color-line);\n",
       "  margin: 0 0.4em 0.5em 0.4em;\n",
       "  box-sizing: border-box;\n",
       "  padding-bottom: 0.4em;\n",
       "  background-color: var(--sklearn-color-background);\n",
       "}\n",
       "\n",
       "#sk-container-id-1 div.sk-container {\n",
       "  /* jupyter's `normalize.less` sets `[hidden] { display: none; }`\n",
       "     but bootstrap.min.css set `[hidden] { display: none !important; }`\n",
       "     so we also need the `!important` here to be able to override the\n",
       "     default hidden behavior on the sphinx rendered scikit-learn.org.\n",
       "     See: https://github.com/scikit-learn/scikit-learn/issues/21755 */\n",
       "  display: inline-block !important;\n",
       "  position: relative;\n",
       "}\n",
       "\n",
       "#sk-container-id-1 div.sk-text-repr-fallback {\n",
       "  display: none;\n",
       "}\n",
       "\n",
       "div.sk-parallel-item,\n",
       "div.sk-serial,\n",
       "div.sk-item {\n",
       "  /* draw centered vertical line to link estimators */\n",
       "  background-image: linear-gradient(var(--sklearn-color-text-on-default-background), var(--sklearn-color-text-on-default-background));\n",
       "  background-size: 2px 100%;\n",
       "  background-repeat: no-repeat;\n",
       "  background-position: center center;\n",
       "}\n",
       "\n",
       "/* Parallel-specific style estimator block */\n",
       "\n",
       "#sk-container-id-1 div.sk-parallel-item::after {\n",
       "  content: \"\";\n",
       "  width: 100%;\n",
       "  border-bottom: 2px solid var(--sklearn-color-text-on-default-background);\n",
       "  flex-grow: 1;\n",
       "}\n",
       "\n",
       "#sk-container-id-1 div.sk-parallel {\n",
       "  display: flex;\n",
       "  align-items: stretch;\n",
       "  justify-content: center;\n",
       "  background-color: var(--sklearn-color-background);\n",
       "  position: relative;\n",
       "}\n",
       "\n",
       "#sk-container-id-1 div.sk-parallel-item {\n",
       "  display: flex;\n",
       "  flex-direction: column;\n",
       "}\n",
       "\n",
       "#sk-container-id-1 div.sk-parallel-item:first-child::after {\n",
       "  align-self: flex-end;\n",
       "  width: 50%;\n",
       "}\n",
       "\n",
       "#sk-container-id-1 div.sk-parallel-item:last-child::after {\n",
       "  align-self: flex-start;\n",
       "  width: 50%;\n",
       "}\n",
       "\n",
       "#sk-container-id-1 div.sk-parallel-item:only-child::after {\n",
       "  width: 0;\n",
       "}\n",
       "\n",
       "/* Serial-specific style estimator block */\n",
       "\n",
       "#sk-container-id-1 div.sk-serial {\n",
       "  display: flex;\n",
       "  flex-direction: column;\n",
       "  align-items: center;\n",
       "  background-color: var(--sklearn-color-background);\n",
       "  padding-right: 1em;\n",
       "  padding-left: 1em;\n",
       "}\n",
       "\n",
       "\n",
       "/* Toggleable style: style used for estimator/Pipeline/ColumnTransformer box that is\n",
       "clickable and can be expanded/collapsed.\n",
       "- Pipeline and ColumnTransformer use this feature and define the default style\n",
       "- Estimators will overwrite some part of the style using the `sk-estimator` class\n",
       "*/\n",
       "\n",
       "/* Pipeline and ColumnTransformer style (default) */\n",
       "\n",
       "#sk-container-id-1 div.sk-toggleable {\n",
       "  /* Default theme specific background. It is overwritten whether we have a\n",
       "  specific estimator or a Pipeline/ColumnTransformer */\n",
       "  background-color: var(--sklearn-color-background);\n",
       "}\n",
       "\n",
       "/* Toggleable label */\n",
       "#sk-container-id-1 label.sk-toggleable__label {\n",
       "  cursor: pointer;\n",
       "  display: flex;\n",
       "  width: 100%;\n",
       "  margin-bottom: 0;\n",
       "  padding: 0.5em;\n",
       "  box-sizing: border-box;\n",
       "  text-align: center;\n",
       "  align-items: start;\n",
       "  justify-content: space-between;\n",
       "  gap: 0.5em;\n",
       "}\n",
       "\n",
       "#sk-container-id-1 label.sk-toggleable__label .caption {\n",
       "  font-size: 0.6rem;\n",
       "  font-weight: lighter;\n",
       "  color: var(--sklearn-color-text-muted);\n",
       "}\n",
       "\n",
       "#sk-container-id-1 label.sk-toggleable__label-arrow:before {\n",
       "  /* Arrow on the left of the label */\n",
       "  content: \"▸\";\n",
       "  float: left;\n",
       "  margin-right: 0.25em;\n",
       "  color: var(--sklearn-color-icon);\n",
       "}\n",
       "\n",
       "#sk-container-id-1 label.sk-toggleable__label-arrow:hover:before {\n",
       "  color: var(--sklearn-color-text);\n",
       "}\n",
       "\n",
       "/* Toggleable content - dropdown */\n",
       "\n",
       "#sk-container-id-1 div.sk-toggleable__content {\n",
       "  max-height: 0;\n",
       "  max-width: 0;\n",
       "  overflow: hidden;\n",
       "  text-align: left;\n",
       "  /* unfitted */\n",
       "  background-color: var(--sklearn-color-unfitted-level-0);\n",
       "}\n",
       "\n",
       "#sk-container-id-1 div.sk-toggleable__content.fitted {\n",
       "  /* fitted */\n",
       "  background-color: var(--sklearn-color-fitted-level-0);\n",
       "}\n",
       "\n",
       "#sk-container-id-1 div.sk-toggleable__content pre {\n",
       "  margin: 0.2em;\n",
       "  border-radius: 0.25em;\n",
       "  color: var(--sklearn-color-text);\n",
       "  /* unfitted */\n",
       "  background-color: var(--sklearn-color-unfitted-level-0);\n",
       "}\n",
       "\n",
       "#sk-container-id-1 div.sk-toggleable__content.fitted pre {\n",
       "  /* unfitted */\n",
       "  background-color: var(--sklearn-color-fitted-level-0);\n",
       "}\n",
       "\n",
       "#sk-container-id-1 input.sk-toggleable__control:checked~div.sk-toggleable__content {\n",
       "  /* Expand drop-down */\n",
       "  max-height: 200px;\n",
       "  max-width: 100%;\n",
       "  overflow: auto;\n",
       "}\n",
       "\n",
       "#sk-container-id-1 input.sk-toggleable__control:checked~label.sk-toggleable__label-arrow:before {\n",
       "  content: \"▾\";\n",
       "}\n",
       "\n",
       "/* Pipeline/ColumnTransformer-specific style */\n",
       "\n",
       "#sk-container-id-1 div.sk-label input.sk-toggleable__control:checked~label.sk-toggleable__label {\n",
       "  color: var(--sklearn-color-text);\n",
       "  background-color: var(--sklearn-color-unfitted-level-2);\n",
       "}\n",
       "\n",
       "#sk-container-id-1 div.sk-label.fitted input.sk-toggleable__control:checked~label.sk-toggleable__label {\n",
       "  background-color: var(--sklearn-color-fitted-level-2);\n",
       "}\n",
       "\n",
       "/* Estimator-specific style */\n",
       "\n",
       "/* Colorize estimator box */\n",
       "#sk-container-id-1 div.sk-estimator input.sk-toggleable__control:checked~label.sk-toggleable__label {\n",
       "  /* unfitted */\n",
       "  background-color: var(--sklearn-color-unfitted-level-2);\n",
       "}\n",
       "\n",
       "#sk-container-id-1 div.sk-estimator.fitted input.sk-toggleable__control:checked~label.sk-toggleable__label {\n",
       "  /* fitted */\n",
       "  background-color: var(--sklearn-color-fitted-level-2);\n",
       "}\n",
       "\n",
       "#sk-container-id-1 div.sk-label label.sk-toggleable__label,\n",
       "#sk-container-id-1 div.sk-label label {\n",
       "  /* The background is the default theme color */\n",
       "  color: var(--sklearn-color-text-on-default-background);\n",
       "}\n",
       "\n",
       "/* On hover, darken the color of the background */\n",
       "#sk-container-id-1 div.sk-label:hover label.sk-toggleable__label {\n",
       "  color: var(--sklearn-color-text);\n",
       "  background-color: var(--sklearn-color-unfitted-level-2);\n",
       "}\n",
       "\n",
       "/* Label box, darken color on hover, fitted */\n",
       "#sk-container-id-1 div.sk-label.fitted:hover label.sk-toggleable__label.fitted {\n",
       "  color: var(--sklearn-color-text);\n",
       "  background-color: var(--sklearn-color-fitted-level-2);\n",
       "}\n",
       "\n",
       "/* Estimator label */\n",
       "\n",
       "#sk-container-id-1 div.sk-label label {\n",
       "  font-family: monospace;\n",
       "  font-weight: bold;\n",
       "  display: inline-block;\n",
       "  line-height: 1.2em;\n",
       "}\n",
       "\n",
       "#sk-container-id-1 div.sk-label-container {\n",
       "  text-align: center;\n",
       "}\n",
       "\n",
       "/* Estimator-specific */\n",
       "#sk-container-id-1 div.sk-estimator {\n",
       "  font-family: monospace;\n",
       "  border: 1px dotted var(--sklearn-color-border-box);\n",
       "  border-radius: 0.25em;\n",
       "  box-sizing: border-box;\n",
       "  margin-bottom: 0.5em;\n",
       "  /* unfitted */\n",
       "  background-color: var(--sklearn-color-unfitted-level-0);\n",
       "}\n",
       "\n",
       "#sk-container-id-1 div.sk-estimator.fitted {\n",
       "  /* fitted */\n",
       "  background-color: var(--sklearn-color-fitted-level-0);\n",
       "}\n",
       "\n",
       "/* on hover */\n",
       "#sk-container-id-1 div.sk-estimator:hover {\n",
       "  /* unfitted */\n",
       "  background-color: var(--sklearn-color-unfitted-level-2);\n",
       "}\n",
       "\n",
       "#sk-container-id-1 div.sk-estimator.fitted:hover {\n",
       "  /* fitted */\n",
       "  background-color: var(--sklearn-color-fitted-level-2);\n",
       "}\n",
       "\n",
       "/* Specification for estimator info (e.g. \"i\" and \"?\") */\n",
       "\n",
       "/* Common style for \"i\" and \"?\" */\n",
       "\n",
       ".sk-estimator-doc-link,\n",
       "a:link.sk-estimator-doc-link,\n",
       "a:visited.sk-estimator-doc-link {\n",
       "  float: right;\n",
       "  font-size: smaller;\n",
       "  line-height: 1em;\n",
       "  font-family: monospace;\n",
       "  background-color: var(--sklearn-color-background);\n",
       "  border-radius: 1em;\n",
       "  height: 1em;\n",
       "  width: 1em;\n",
       "  text-decoration: none !important;\n",
       "  margin-left: 0.5em;\n",
       "  text-align: center;\n",
       "  /* unfitted */\n",
       "  border: var(--sklearn-color-unfitted-level-1) 1pt solid;\n",
       "  color: var(--sklearn-color-unfitted-level-1);\n",
       "}\n",
       "\n",
       ".sk-estimator-doc-link.fitted,\n",
       "a:link.sk-estimator-doc-link.fitted,\n",
       "a:visited.sk-estimator-doc-link.fitted {\n",
       "  /* fitted */\n",
       "  border: var(--sklearn-color-fitted-level-1) 1pt solid;\n",
       "  color: var(--sklearn-color-fitted-level-1);\n",
       "}\n",
       "\n",
       "/* On hover */\n",
       "div.sk-estimator:hover .sk-estimator-doc-link:hover,\n",
       ".sk-estimator-doc-link:hover,\n",
       "div.sk-label-container:hover .sk-estimator-doc-link:hover,\n",
       ".sk-estimator-doc-link:hover {\n",
       "  /* unfitted */\n",
       "  background-color: var(--sklearn-color-unfitted-level-3);\n",
       "  color: var(--sklearn-color-background);\n",
       "  text-decoration: none;\n",
       "}\n",
       "\n",
       "div.sk-estimator.fitted:hover .sk-estimator-doc-link.fitted:hover,\n",
       ".sk-estimator-doc-link.fitted:hover,\n",
       "div.sk-label-container:hover .sk-estimator-doc-link.fitted:hover,\n",
       ".sk-estimator-doc-link.fitted:hover {\n",
       "  /* fitted */\n",
       "  background-color: var(--sklearn-color-fitted-level-3);\n",
       "  color: var(--sklearn-color-background);\n",
       "  text-decoration: none;\n",
       "}\n",
       "\n",
       "/* Span, style for the box shown on hovering the info icon */\n",
       ".sk-estimator-doc-link span {\n",
       "  display: none;\n",
       "  z-index: 9999;\n",
       "  position: relative;\n",
       "  font-weight: normal;\n",
       "  right: .2ex;\n",
       "  padding: .5ex;\n",
       "  margin: .5ex;\n",
       "  width: min-content;\n",
       "  min-width: 20ex;\n",
       "  max-width: 50ex;\n",
       "  color: var(--sklearn-color-text);\n",
       "  box-shadow: 2pt 2pt 4pt #999;\n",
       "  /* unfitted */\n",
       "  background: var(--sklearn-color-unfitted-level-0);\n",
       "  border: .5pt solid var(--sklearn-color-unfitted-level-3);\n",
       "}\n",
       "\n",
       ".sk-estimator-doc-link.fitted span {\n",
       "  /* fitted */\n",
       "  background: var(--sklearn-color-fitted-level-0);\n",
       "  border: var(--sklearn-color-fitted-level-3);\n",
       "}\n",
       "\n",
       ".sk-estimator-doc-link:hover span {\n",
       "  display: block;\n",
       "}\n",
       "\n",
       "/* \"?\"-specific style due to the `<a>` HTML tag */\n",
       "\n",
       "#sk-container-id-1 a.estimator_doc_link {\n",
       "  float: right;\n",
       "  font-size: 1rem;\n",
       "  line-height: 1em;\n",
       "  font-family: monospace;\n",
       "  background-color: var(--sklearn-color-background);\n",
       "  border-radius: 1rem;\n",
       "  height: 1rem;\n",
       "  width: 1rem;\n",
       "  text-decoration: none;\n",
       "  /* unfitted */\n",
       "  color: var(--sklearn-color-unfitted-level-1);\n",
       "  border: var(--sklearn-color-unfitted-level-1) 1pt solid;\n",
       "}\n",
       "\n",
       "#sk-container-id-1 a.estimator_doc_link.fitted {\n",
       "  /* fitted */\n",
       "  border: var(--sklearn-color-fitted-level-1) 1pt solid;\n",
       "  color: var(--sklearn-color-fitted-level-1);\n",
       "}\n",
       "\n",
       "/* On hover */\n",
       "#sk-container-id-1 a.estimator_doc_link:hover {\n",
       "  /* unfitted */\n",
       "  background-color: var(--sklearn-color-unfitted-level-3);\n",
       "  color: var(--sklearn-color-background);\n",
       "  text-decoration: none;\n",
       "}\n",
       "\n",
       "#sk-container-id-1 a.estimator_doc_link.fitted:hover {\n",
       "  /* fitted */\n",
       "  background-color: var(--sklearn-color-fitted-level-3);\n",
       "}\n",
       "</style><div id=\"sk-container-id-1\" class=\"sk-top-container\"><div class=\"sk-text-repr-fallback\"><pre>LogisticRegression(C=0.0001)</pre><b>In a Jupyter environment, please rerun this cell to show the HTML representation or trust the notebook. <br />On GitHub, the HTML representation is unable to render, please try loading this page with nbviewer.org.</b></div><div class=\"sk-container\" hidden><div class=\"sk-item\"><div class=\"sk-estimator fitted sk-toggleable\"><input class=\"sk-toggleable__control sk-hidden--visually\" id=\"sk-estimator-id-1\" type=\"checkbox\" checked><label for=\"sk-estimator-id-1\" class=\"sk-toggleable__label fitted sk-toggleable__label-arrow\"><div><div>LogisticRegression</div></div><div><a class=\"sk-estimator-doc-link fitted\" rel=\"noreferrer\" target=\"_blank\" href=\"https://scikit-learn.org/1.6/modules/generated/sklearn.linear_model.LogisticRegression.html\">?<span>Documentation for LogisticRegression</span></a><span class=\"sk-estimator-doc-link fitted\">i<span>Fitted</span></span></div></label><div class=\"sk-toggleable__content fitted\"><pre>LogisticRegression(C=0.0001)</pre></div> </div></div></div></div>"
      ],
      "text/plain": [
       "LogisticRegression(C=0.0001)"
      ]
     },
     "execution_count": 25,
     "metadata": {},
     "output_type": "execute_result"
    }
   ],
   "source": [
    "%%time\n",
    "\n",
    "# This is an example code on how to:\n",
    "#   - Create and fit (train) a logistic regression\n",
    "#   - Assign to `log_reg` variable\n",
    "log_reg = None\n",
    "log_reg = LogisticRegression(C=0.0001)\n",
    "log_reg.fit(train_data, y_train)"
   ]
  },
  {
   "cell_type": "markdown",
   "id": "2OTXvqibhqid",
   "metadata": {
    "id": "2OTXvqibhqid"
   },
   "source": [
    "**Don't change anything in this cell, just make it run correctly**"
   ]
  },
  {
   "cell_type": "code",
   "execution_count": 26,
   "id": "JmFsb5DShqid",
   "metadata": {
    "colab": {
     "base_uri": "https://localhost:8080/"
    },
    "executionInfo": {
     "elapsed": 310,
     "status": "ok",
     "timestamp": 1670195424262,
     "user": {
      "displayName": "Jose Luis",
      "userId": "17952480099147442429"
     },
     "user_tz": 180
    },
    "id": "JmFsb5DShqid",
    "outputId": "3cc332c0-18c0-4257-82b7-3e95e05bc012"
   },
   "outputs": [
    {
     "name": "stdout",
     "output_type": "stream",
     "text": [
      "Success: Logistic regression model type is correct!\n"
     ]
    }
   ],
   "source": [
    "if isinstance(log_reg, LogisticRegression):\n",
    "    print(\"Success: Logistic regression model type is correct!\")\n",
    "else:\n",
    "    raise ValueError(\n",
    "        \"Logistic regression model type is incorrect, please review your code\"\n",
    "    )\n",
    "\n",
    "check_is_fitted(log_reg)"
   ]
  },
  {
   "attachments": {},
   "cell_type": "markdown",
   "id": "018d5c7e-012f-47cc-8bfc-0332de907ae9",
   "metadata": {
    "id": "018d5c7e-012f-47cc-8bfc-0332de907ae9"
   },
   "source": [
    "3.2. Use the trained model to predict probabilities for `train_data` and `val_data`.\n",
    "\n",
    "**Important note:** When using the function `predict_proba()` for getting model probabilities you will get, for each sample, a tuple indicating the probability for class 0 and for class 1 respectively. For computing the AUC ROC score we only need the probability that the debt is not repaid (equivalent to class 1). As an example, the result from running `predict_proba()` on validation dataset will have a shape of `(49202, 2)` but, we only need the second column from that matrix, which corresponds to the class 1.\n"
   ]
  },
  {
   "cell_type": "markdown",
   "id": "2OTXvqibhqid",
   "metadata": {
    "id": "2OTXvqibhqid"
   },
   "source": [
    "**Don't change anything in this cell, just make it run correctly**"
   ]
  },
  {
   "cell_type": "code",
   "execution_count": 27,
   "id": "798ae69b-1fe2-458d-9de7-3e1ed70b9b02",
   "metadata": {
    "executionInfo": {
     "elapsed": 276,
     "status": "ok",
     "timestamp": 1670195428153,
     "user": {
      "displayName": "Jose Luis",
      "userId": "17952480099147442429"
     },
     "user_tz": 180
    },
    "id": "798ae69b-1fe2-458d-9de7-3e1ed70b9b02"
   },
   "outputs": [],
   "source": [
    "# Example code to show you how to use the Logistic Regression model\n",
    "# to predict probabilities for each class and then, use the probabilities for the\n",
    "# class 1 only.\n",
    "\n",
    "# Train data predictions (class 1)\n",
    "log_reg_train = log_reg.predict_proba(train_data)[:, 1]\n",
    "\n",
    "# Validation data predictions (class 1)\n",
    "log_reg_val = log_reg.predict_proba(val_data)[:, 1]"
   ]
  },
  {
   "attachments": {},
   "cell_type": "markdown",
   "id": "b0826305-4900-4ba1-bf25-48205be980c6",
   "metadata": {
    "id": "b0826305-4900-4ba1-bf25-48205be980c6"
   },
   "source": [
    "3.3. Get AUC ROC score on train and validation datasets. See [scikit-learn AUC ROC function](https://scikit-learn.org/stable/modules/generated/sklearn.metrics.roc_auc_score.html) for a working implementation.\n",
    "\n",
    "Assign the AUC ROC score to `lr_roc_auc` variable.\n"
   ]
  },
  {
   "cell_type": "markdown",
   "id": "2OTXvqibhqid",
   "metadata": {
    "id": "2OTXvqibhqid"
   },
   "source": [
    "**Don't change anything in this cell, just make it run correctly**"
   ]
  },
  {
   "cell_type": "code",
   "execution_count": 28,
   "id": "83a850c7",
   "metadata": {},
   "outputs": [
    {
     "name": "stdout",
     "output_type": "stream",
     "text": [
      "Train ROC AUC Score: 0.6795\n",
      "Validation ROC AUC Score: 0.6769\n"
     ]
    }
   ],
   "source": [
    "# Example code to show you how to get the ROC AUC Score on train and val datasets\n",
    "\n",
    "# Train ROC AUC Score\n",
    "roc_auc_train = roc_auc_score(y_true=y_train, y_score=log_reg_train)\n",
    "print(f\"Train ROC AUC Score: {roc_auc_train:.4f}\")\n",
    "\n",
    "# Validation ROC AUC Score\n",
    "roc_auc_val = roc_auc_score(y_true=y_val, y_score=log_reg_val)\n",
    "print(f\"Validation ROC AUC Score: {roc_auc_val:.4f}\")"
   ]
  },
  {
   "attachments": {},
   "cell_type": "markdown",
   "id": "4d889582-0c21-4789-acac-4d58f8eb74d9",
   "metadata": {
    "id": "4d889582-0c21-4789-acac-4d58f8eb74d9"
   },
   "source": [
    "At this point, the model should produce a result of around 0.67.\n",
    "\n",
    "**Question:** Comparing train and validation results, do you observe underfitting, overfitting, or none of those two?"
   ]
  },
  {
   "cell_type": "markdown",
   "id": "ap_JpPoNidg2",
   "metadata": {
    "id": "ap_JpPoNidg2"
   },
   "source": [
    "**Don't change anything in this cell, just make it run correctly**"
   ]
  },
  {
   "cell_type": "code",
   "execution_count": 29,
   "id": "KWSHN2Ouidg2",
   "metadata": {
    "colab": {
     "base_uri": "https://localhost:8080/"
    },
    "executionInfo": {
     "elapsed": 624,
     "status": "ok",
     "timestamp": 1670195435233,
     "user": {
      "displayName": "Jose Luis",
      "userId": "17952480099147442429"
     },
     "user_tz": 180
    },
    "id": "KWSHN2Ouidg2",
    "outputId": "03f1bf8e-8980-4eba-d9e8-aa53c5dccd84"
   },
   "outputs": [
    {
     "name": "stdout",
     "output_type": "stream",
     "text": [
      "Success: AUC ROC score type is correct!\n",
      "Success: AUC ROC score is correct!\n"
     ]
    }
   ],
   "source": [
    "if isinstance(roc_auc_val, float):\n",
    "    print(\"Success: AUC ROC score type is correct!\")\n",
    "else:\n",
    "    raise ValueError(\"AUC ROC score type is incorrect, please review your code\")\n",
    "\n",
    "if roc_auc_val >= 0.6:\n",
    "    print(\"Success: AUC ROC score is correct!\")\n",
    "else:\n",
    "    raise ValueError(\"AUC ROC score is incorrect, please review your code\")"
   ]
  },
  {
   "cell_type": "markdown",
   "id": "8f8300cc-d8be-4303-9042-757cb9e15d3e",
   "metadata": {
    "id": "8f8300cc-d8be-4303-9042-757cb9e15d3e"
   },
   "source": [
    "### Training a Random Forest Classifier "
   ]
  },
  {
   "cell_type": "markdown",
   "id": "05280b49-11af-4fe6-9236-95f31fb5e0d5",
   "metadata": {
    "id": "05280b49-11af-4fe6-9236-95f31fb5e0d5"
   },
   "source": [
    "You're gonna start working in more complex models: ensambles, particularly, you're going to use the Random Forest Classifier from Scikit Learn. "
   ]
  },
  {
   "cell_type": "markdown",
   "id": "0efdfd67-ec68-49b3-8727-7ab9784b5e54",
   "metadata": {
    "id": "0efdfd67-ec68-49b3-8727-7ab9784b5e54"
   },
   "source": [
    "3.4. Train a RandomForestClassifier, print the time taken by the fit function. Just use default hyperparameters, except for `n_jobs`, which should be set to \"-1\" to allow the library to use all CPU cores to speed up training time."
   ]
  },
  {
   "cell_type": "code",
   "execution_count": 30,
   "id": "1d3b9ea6-4bf9-42f0-aed1-1c0f3a4f9b39",
   "metadata": {
    "colab": {
     "base_uri": "https://localhost:8080/"
    },
    "executionInfo": {
     "elapsed": 95269,
     "status": "ok",
     "timestamp": 1670195539807,
     "user": {
      "displayName": "Jose Luis",
      "userId": "17952480099147442429"
     },
     "user_tz": 180
    },
    "id": "1d3b9ea6-4bf9-42f0-aed1-1c0f3a4f9b39",
    "outputId": "848010ac-1f2b-43ab-9873-0d78c186e804"
   },
   "outputs": [
    {
     "name": "stdout",
     "output_type": "stream",
     "text": [
      "CPU times: user 3min 26s, sys: 855 ms, total: 3min 27s\n",
      "Wall time: 29.5 s\n"
     ]
    },
    {
     "data": {
      "text/html": [
       "<style>#sk-container-id-2 {\n",
       "  /* Definition of color scheme common for light and dark mode */\n",
       "  --sklearn-color-text: #000;\n",
       "  --sklearn-color-text-muted: #666;\n",
       "  --sklearn-color-line: gray;\n",
       "  /* Definition of color scheme for unfitted estimators */\n",
       "  --sklearn-color-unfitted-level-0: #fff5e6;\n",
       "  --sklearn-color-unfitted-level-1: #f6e4d2;\n",
       "  --sklearn-color-unfitted-level-2: #ffe0b3;\n",
       "  --sklearn-color-unfitted-level-3: chocolate;\n",
       "  /* Definition of color scheme for fitted estimators */\n",
       "  --sklearn-color-fitted-level-0: #f0f8ff;\n",
       "  --sklearn-color-fitted-level-1: #d4ebff;\n",
       "  --sklearn-color-fitted-level-2: #b3dbfd;\n",
       "  --sklearn-color-fitted-level-3: cornflowerblue;\n",
       "\n",
       "  /* Specific color for light theme */\n",
       "  --sklearn-color-text-on-default-background: var(--sg-text-color, var(--theme-code-foreground, var(--jp-content-font-color1, black)));\n",
       "  --sklearn-color-background: var(--sg-background-color, var(--theme-background, var(--jp-layout-color0, white)));\n",
       "  --sklearn-color-border-box: var(--sg-text-color, var(--theme-code-foreground, var(--jp-content-font-color1, black)));\n",
       "  --sklearn-color-icon: #696969;\n",
       "\n",
       "  @media (prefers-color-scheme: dark) {\n",
       "    /* Redefinition of color scheme for dark theme */\n",
       "    --sklearn-color-text-on-default-background: var(--sg-text-color, var(--theme-code-foreground, var(--jp-content-font-color1, white)));\n",
       "    --sklearn-color-background: var(--sg-background-color, var(--theme-background, var(--jp-layout-color0, #111)));\n",
       "    --sklearn-color-border-box: var(--sg-text-color, var(--theme-code-foreground, var(--jp-content-font-color1, white)));\n",
       "    --sklearn-color-icon: #878787;\n",
       "  }\n",
       "}\n",
       "\n",
       "#sk-container-id-2 {\n",
       "  color: var(--sklearn-color-text);\n",
       "}\n",
       "\n",
       "#sk-container-id-2 pre {\n",
       "  padding: 0;\n",
       "}\n",
       "\n",
       "#sk-container-id-2 input.sk-hidden--visually {\n",
       "  border: 0;\n",
       "  clip: rect(1px 1px 1px 1px);\n",
       "  clip: rect(1px, 1px, 1px, 1px);\n",
       "  height: 1px;\n",
       "  margin: -1px;\n",
       "  overflow: hidden;\n",
       "  padding: 0;\n",
       "  position: absolute;\n",
       "  width: 1px;\n",
       "}\n",
       "\n",
       "#sk-container-id-2 div.sk-dashed-wrapped {\n",
       "  border: 1px dashed var(--sklearn-color-line);\n",
       "  margin: 0 0.4em 0.5em 0.4em;\n",
       "  box-sizing: border-box;\n",
       "  padding-bottom: 0.4em;\n",
       "  background-color: var(--sklearn-color-background);\n",
       "}\n",
       "\n",
       "#sk-container-id-2 div.sk-container {\n",
       "  /* jupyter's `normalize.less` sets `[hidden] { display: none; }`\n",
       "     but bootstrap.min.css set `[hidden] { display: none !important; }`\n",
       "     so we also need the `!important` here to be able to override the\n",
       "     default hidden behavior on the sphinx rendered scikit-learn.org.\n",
       "     See: https://github.com/scikit-learn/scikit-learn/issues/21755 */\n",
       "  display: inline-block !important;\n",
       "  position: relative;\n",
       "}\n",
       "\n",
       "#sk-container-id-2 div.sk-text-repr-fallback {\n",
       "  display: none;\n",
       "}\n",
       "\n",
       "div.sk-parallel-item,\n",
       "div.sk-serial,\n",
       "div.sk-item {\n",
       "  /* draw centered vertical line to link estimators */\n",
       "  background-image: linear-gradient(var(--sklearn-color-text-on-default-background), var(--sklearn-color-text-on-default-background));\n",
       "  background-size: 2px 100%;\n",
       "  background-repeat: no-repeat;\n",
       "  background-position: center center;\n",
       "}\n",
       "\n",
       "/* Parallel-specific style estimator block */\n",
       "\n",
       "#sk-container-id-2 div.sk-parallel-item::after {\n",
       "  content: \"\";\n",
       "  width: 100%;\n",
       "  border-bottom: 2px solid var(--sklearn-color-text-on-default-background);\n",
       "  flex-grow: 1;\n",
       "}\n",
       "\n",
       "#sk-container-id-2 div.sk-parallel {\n",
       "  display: flex;\n",
       "  align-items: stretch;\n",
       "  justify-content: center;\n",
       "  background-color: var(--sklearn-color-background);\n",
       "  position: relative;\n",
       "}\n",
       "\n",
       "#sk-container-id-2 div.sk-parallel-item {\n",
       "  display: flex;\n",
       "  flex-direction: column;\n",
       "}\n",
       "\n",
       "#sk-container-id-2 div.sk-parallel-item:first-child::after {\n",
       "  align-self: flex-end;\n",
       "  width: 50%;\n",
       "}\n",
       "\n",
       "#sk-container-id-2 div.sk-parallel-item:last-child::after {\n",
       "  align-self: flex-start;\n",
       "  width: 50%;\n",
       "}\n",
       "\n",
       "#sk-container-id-2 div.sk-parallel-item:only-child::after {\n",
       "  width: 0;\n",
       "}\n",
       "\n",
       "/* Serial-specific style estimator block */\n",
       "\n",
       "#sk-container-id-2 div.sk-serial {\n",
       "  display: flex;\n",
       "  flex-direction: column;\n",
       "  align-items: center;\n",
       "  background-color: var(--sklearn-color-background);\n",
       "  padding-right: 1em;\n",
       "  padding-left: 1em;\n",
       "}\n",
       "\n",
       "\n",
       "/* Toggleable style: style used for estimator/Pipeline/ColumnTransformer box that is\n",
       "clickable and can be expanded/collapsed.\n",
       "- Pipeline and ColumnTransformer use this feature and define the default style\n",
       "- Estimators will overwrite some part of the style using the `sk-estimator` class\n",
       "*/\n",
       "\n",
       "/* Pipeline and ColumnTransformer style (default) */\n",
       "\n",
       "#sk-container-id-2 div.sk-toggleable {\n",
       "  /* Default theme specific background. It is overwritten whether we have a\n",
       "  specific estimator or a Pipeline/ColumnTransformer */\n",
       "  background-color: var(--sklearn-color-background);\n",
       "}\n",
       "\n",
       "/* Toggleable label */\n",
       "#sk-container-id-2 label.sk-toggleable__label {\n",
       "  cursor: pointer;\n",
       "  display: flex;\n",
       "  width: 100%;\n",
       "  margin-bottom: 0;\n",
       "  padding: 0.5em;\n",
       "  box-sizing: border-box;\n",
       "  text-align: center;\n",
       "  align-items: start;\n",
       "  justify-content: space-between;\n",
       "  gap: 0.5em;\n",
       "}\n",
       "\n",
       "#sk-container-id-2 label.sk-toggleable__label .caption {\n",
       "  font-size: 0.6rem;\n",
       "  font-weight: lighter;\n",
       "  color: var(--sklearn-color-text-muted);\n",
       "}\n",
       "\n",
       "#sk-container-id-2 label.sk-toggleable__label-arrow:before {\n",
       "  /* Arrow on the left of the label */\n",
       "  content: \"▸\";\n",
       "  float: left;\n",
       "  margin-right: 0.25em;\n",
       "  color: var(--sklearn-color-icon);\n",
       "}\n",
       "\n",
       "#sk-container-id-2 label.sk-toggleable__label-arrow:hover:before {\n",
       "  color: var(--sklearn-color-text);\n",
       "}\n",
       "\n",
       "/* Toggleable content - dropdown */\n",
       "\n",
       "#sk-container-id-2 div.sk-toggleable__content {\n",
       "  max-height: 0;\n",
       "  max-width: 0;\n",
       "  overflow: hidden;\n",
       "  text-align: left;\n",
       "  /* unfitted */\n",
       "  background-color: var(--sklearn-color-unfitted-level-0);\n",
       "}\n",
       "\n",
       "#sk-container-id-2 div.sk-toggleable__content.fitted {\n",
       "  /* fitted */\n",
       "  background-color: var(--sklearn-color-fitted-level-0);\n",
       "}\n",
       "\n",
       "#sk-container-id-2 div.sk-toggleable__content pre {\n",
       "  margin: 0.2em;\n",
       "  border-radius: 0.25em;\n",
       "  color: var(--sklearn-color-text);\n",
       "  /* unfitted */\n",
       "  background-color: var(--sklearn-color-unfitted-level-0);\n",
       "}\n",
       "\n",
       "#sk-container-id-2 div.sk-toggleable__content.fitted pre {\n",
       "  /* unfitted */\n",
       "  background-color: var(--sklearn-color-fitted-level-0);\n",
       "}\n",
       "\n",
       "#sk-container-id-2 input.sk-toggleable__control:checked~div.sk-toggleable__content {\n",
       "  /* Expand drop-down */\n",
       "  max-height: 200px;\n",
       "  max-width: 100%;\n",
       "  overflow: auto;\n",
       "}\n",
       "\n",
       "#sk-container-id-2 input.sk-toggleable__control:checked~label.sk-toggleable__label-arrow:before {\n",
       "  content: \"▾\";\n",
       "}\n",
       "\n",
       "/* Pipeline/ColumnTransformer-specific style */\n",
       "\n",
       "#sk-container-id-2 div.sk-label input.sk-toggleable__control:checked~label.sk-toggleable__label {\n",
       "  color: var(--sklearn-color-text);\n",
       "  background-color: var(--sklearn-color-unfitted-level-2);\n",
       "}\n",
       "\n",
       "#sk-container-id-2 div.sk-label.fitted input.sk-toggleable__control:checked~label.sk-toggleable__label {\n",
       "  background-color: var(--sklearn-color-fitted-level-2);\n",
       "}\n",
       "\n",
       "/* Estimator-specific style */\n",
       "\n",
       "/* Colorize estimator box */\n",
       "#sk-container-id-2 div.sk-estimator input.sk-toggleable__control:checked~label.sk-toggleable__label {\n",
       "  /* unfitted */\n",
       "  background-color: var(--sklearn-color-unfitted-level-2);\n",
       "}\n",
       "\n",
       "#sk-container-id-2 div.sk-estimator.fitted input.sk-toggleable__control:checked~label.sk-toggleable__label {\n",
       "  /* fitted */\n",
       "  background-color: var(--sklearn-color-fitted-level-2);\n",
       "}\n",
       "\n",
       "#sk-container-id-2 div.sk-label label.sk-toggleable__label,\n",
       "#sk-container-id-2 div.sk-label label {\n",
       "  /* The background is the default theme color */\n",
       "  color: var(--sklearn-color-text-on-default-background);\n",
       "}\n",
       "\n",
       "/* On hover, darken the color of the background */\n",
       "#sk-container-id-2 div.sk-label:hover label.sk-toggleable__label {\n",
       "  color: var(--sklearn-color-text);\n",
       "  background-color: var(--sklearn-color-unfitted-level-2);\n",
       "}\n",
       "\n",
       "/* Label box, darken color on hover, fitted */\n",
       "#sk-container-id-2 div.sk-label.fitted:hover label.sk-toggleable__label.fitted {\n",
       "  color: var(--sklearn-color-text);\n",
       "  background-color: var(--sklearn-color-fitted-level-2);\n",
       "}\n",
       "\n",
       "/* Estimator label */\n",
       "\n",
       "#sk-container-id-2 div.sk-label label {\n",
       "  font-family: monospace;\n",
       "  font-weight: bold;\n",
       "  display: inline-block;\n",
       "  line-height: 1.2em;\n",
       "}\n",
       "\n",
       "#sk-container-id-2 div.sk-label-container {\n",
       "  text-align: center;\n",
       "}\n",
       "\n",
       "/* Estimator-specific */\n",
       "#sk-container-id-2 div.sk-estimator {\n",
       "  font-family: monospace;\n",
       "  border: 1px dotted var(--sklearn-color-border-box);\n",
       "  border-radius: 0.25em;\n",
       "  box-sizing: border-box;\n",
       "  margin-bottom: 0.5em;\n",
       "  /* unfitted */\n",
       "  background-color: var(--sklearn-color-unfitted-level-0);\n",
       "}\n",
       "\n",
       "#sk-container-id-2 div.sk-estimator.fitted {\n",
       "  /* fitted */\n",
       "  background-color: var(--sklearn-color-fitted-level-0);\n",
       "}\n",
       "\n",
       "/* on hover */\n",
       "#sk-container-id-2 div.sk-estimator:hover {\n",
       "  /* unfitted */\n",
       "  background-color: var(--sklearn-color-unfitted-level-2);\n",
       "}\n",
       "\n",
       "#sk-container-id-2 div.sk-estimator.fitted:hover {\n",
       "  /* fitted */\n",
       "  background-color: var(--sklearn-color-fitted-level-2);\n",
       "}\n",
       "\n",
       "/* Specification for estimator info (e.g. \"i\" and \"?\") */\n",
       "\n",
       "/* Common style for \"i\" and \"?\" */\n",
       "\n",
       ".sk-estimator-doc-link,\n",
       "a:link.sk-estimator-doc-link,\n",
       "a:visited.sk-estimator-doc-link {\n",
       "  float: right;\n",
       "  font-size: smaller;\n",
       "  line-height: 1em;\n",
       "  font-family: monospace;\n",
       "  background-color: var(--sklearn-color-background);\n",
       "  border-radius: 1em;\n",
       "  height: 1em;\n",
       "  width: 1em;\n",
       "  text-decoration: none !important;\n",
       "  margin-left: 0.5em;\n",
       "  text-align: center;\n",
       "  /* unfitted */\n",
       "  border: var(--sklearn-color-unfitted-level-1) 1pt solid;\n",
       "  color: var(--sklearn-color-unfitted-level-1);\n",
       "}\n",
       "\n",
       ".sk-estimator-doc-link.fitted,\n",
       "a:link.sk-estimator-doc-link.fitted,\n",
       "a:visited.sk-estimator-doc-link.fitted {\n",
       "  /* fitted */\n",
       "  border: var(--sklearn-color-fitted-level-1) 1pt solid;\n",
       "  color: var(--sklearn-color-fitted-level-1);\n",
       "}\n",
       "\n",
       "/* On hover */\n",
       "div.sk-estimator:hover .sk-estimator-doc-link:hover,\n",
       ".sk-estimator-doc-link:hover,\n",
       "div.sk-label-container:hover .sk-estimator-doc-link:hover,\n",
       ".sk-estimator-doc-link:hover {\n",
       "  /* unfitted */\n",
       "  background-color: var(--sklearn-color-unfitted-level-3);\n",
       "  color: var(--sklearn-color-background);\n",
       "  text-decoration: none;\n",
       "}\n",
       "\n",
       "div.sk-estimator.fitted:hover .sk-estimator-doc-link.fitted:hover,\n",
       ".sk-estimator-doc-link.fitted:hover,\n",
       "div.sk-label-container:hover .sk-estimator-doc-link.fitted:hover,\n",
       ".sk-estimator-doc-link.fitted:hover {\n",
       "  /* fitted */\n",
       "  background-color: var(--sklearn-color-fitted-level-3);\n",
       "  color: var(--sklearn-color-background);\n",
       "  text-decoration: none;\n",
       "}\n",
       "\n",
       "/* Span, style for the box shown on hovering the info icon */\n",
       ".sk-estimator-doc-link span {\n",
       "  display: none;\n",
       "  z-index: 9999;\n",
       "  position: relative;\n",
       "  font-weight: normal;\n",
       "  right: .2ex;\n",
       "  padding: .5ex;\n",
       "  margin: .5ex;\n",
       "  width: min-content;\n",
       "  min-width: 20ex;\n",
       "  max-width: 50ex;\n",
       "  color: var(--sklearn-color-text);\n",
       "  box-shadow: 2pt 2pt 4pt #999;\n",
       "  /* unfitted */\n",
       "  background: var(--sklearn-color-unfitted-level-0);\n",
       "  border: .5pt solid var(--sklearn-color-unfitted-level-3);\n",
       "}\n",
       "\n",
       ".sk-estimator-doc-link.fitted span {\n",
       "  /* fitted */\n",
       "  background: var(--sklearn-color-fitted-level-0);\n",
       "  border: var(--sklearn-color-fitted-level-3);\n",
       "}\n",
       "\n",
       ".sk-estimator-doc-link:hover span {\n",
       "  display: block;\n",
       "}\n",
       "\n",
       "/* \"?\"-specific style due to the `<a>` HTML tag */\n",
       "\n",
       "#sk-container-id-2 a.estimator_doc_link {\n",
       "  float: right;\n",
       "  font-size: 1rem;\n",
       "  line-height: 1em;\n",
       "  font-family: monospace;\n",
       "  background-color: var(--sklearn-color-background);\n",
       "  border-radius: 1rem;\n",
       "  height: 1rem;\n",
       "  width: 1rem;\n",
       "  text-decoration: none;\n",
       "  /* unfitted */\n",
       "  color: var(--sklearn-color-unfitted-level-1);\n",
       "  border: var(--sklearn-color-unfitted-level-1) 1pt solid;\n",
       "}\n",
       "\n",
       "#sk-container-id-2 a.estimator_doc_link.fitted {\n",
       "  /* fitted */\n",
       "  border: var(--sklearn-color-fitted-level-1) 1pt solid;\n",
       "  color: var(--sklearn-color-fitted-level-1);\n",
       "}\n",
       "\n",
       "/* On hover */\n",
       "#sk-container-id-2 a.estimator_doc_link:hover {\n",
       "  /* unfitted */\n",
       "  background-color: var(--sklearn-color-unfitted-level-3);\n",
       "  color: var(--sklearn-color-background);\n",
       "  text-decoration: none;\n",
       "}\n",
       "\n",
       "#sk-container-id-2 a.estimator_doc_link.fitted:hover {\n",
       "  /* fitted */\n",
       "  background-color: var(--sklearn-color-fitted-level-3);\n",
       "}\n",
       "</style><div id=\"sk-container-id-2\" class=\"sk-top-container\"><div class=\"sk-text-repr-fallback\"><pre>RandomForestClassifier(n_jobs=-1, random_state=42)</pre><b>In a Jupyter environment, please rerun this cell to show the HTML representation or trust the notebook. <br />On GitHub, the HTML representation is unable to render, please try loading this page with nbviewer.org.</b></div><div class=\"sk-container\" hidden><div class=\"sk-item\"><div class=\"sk-estimator fitted sk-toggleable\"><input class=\"sk-toggleable__control sk-hidden--visually\" id=\"sk-estimator-id-2\" type=\"checkbox\" checked><label for=\"sk-estimator-id-2\" class=\"sk-toggleable__label fitted sk-toggleable__label-arrow\"><div><div>RandomForestClassifier</div></div><div><a class=\"sk-estimator-doc-link fitted\" rel=\"noreferrer\" target=\"_blank\" href=\"https://scikit-learn.org/1.6/modules/generated/sklearn.ensemble.RandomForestClassifier.html\">?<span>Documentation for RandomForestClassifier</span></a><span class=\"sk-estimator-doc-link fitted\">i<span>Fitted</span></span></div></label><div class=\"sk-toggleable__content fitted\"><pre>RandomForestClassifier(n_jobs=-1, random_state=42)</pre></div> </div></div></div></div>"
      ],
      "text/plain": [
       "RandomForestClassifier(n_jobs=-1, random_state=42)"
      ]
     },
     "execution_count": 30,
     "metadata": {},
     "output_type": "execute_result"
    }
   ],
   "source": [
    "%%time\n",
    "\n",
    "# TODO Write your code here for training a Random Forest model.\n",
    "#   - Please use sklearn.ensemble.RandomForestClassifier() class.\n",
    "#   - Assign the model to the variable `rf`.\n",
    "#   - Remember to fit the model only on `train_data`.\n",
    "rf = RandomForestClassifier(\n",
    "    n_estimators=100,  \n",
    "    max_depth=None,    \n",
    "    random_state=42,  \n",
    "    n_jobs=-1         \n",
    ")\n",
    "\n",
    "# Training the model using just train_data\n",
    "rf.fit(train_data, y_train)"
   ]
  },
  {
   "cell_type": "markdown",
   "id": "c70bf912",
   "metadata": {
    "id": "2OTXvqibhqid"
   },
   "source": [
    "**Don't change anything in this cell, just make it run correctly**"
   ]
  },
  {
   "cell_type": "code",
   "execution_count": 31,
   "id": "9a21b91c",
   "metadata": {
    "colab": {
     "base_uri": "https://localhost:8080/"
    },
    "executionInfo": {
     "elapsed": 310,
     "status": "ok",
     "timestamp": 1670195424262,
     "user": {
      "displayName": "Jose Luis",
      "userId": "17952480099147442429"
     },
     "user_tz": 180
    },
    "id": "JmFsb5DShqid",
    "outputId": "3cc332c0-18c0-4257-82b7-3e95e05bc012"
   },
   "outputs": [
    {
     "name": "stdout",
     "output_type": "stream",
     "text": [
      "Success: RandomForestClassifier model type is correct!\n"
     ]
    }
   ],
   "source": [
    "if isinstance(rf, RandomForestClassifier):\n",
    "    print(\"Success: RandomForestClassifier model type is correct!\")\n",
    "else:\n",
    "    raise ValueError(\n",
    "        \"RandomForestClassifier model type is incorrect, please review your code\"\n",
    "    )\n",
    "\n",
    "check_is_fitted(rf)"
   ]
  },
  {
   "attachments": {},
   "cell_type": "markdown",
   "id": "3b12a0a5-8ff1-4cb6-9928-37122d2a3435",
   "metadata": {
    "id": "3b12a0a5-8ff1-4cb6-9928-37122d2a3435"
   },
   "source": [
    "3.5. Use the classifier to predict probabilities for `train_data` and `val_data`."
   ]
  },
  {
   "cell_type": "code",
   "execution_count": 32,
   "id": "4ba80108-858c-4d4e-ba19-7f19fa526dc9",
   "metadata": {
    "executionInfo": {
     "elapsed": 4992,
     "status": "ok",
     "timestamp": 1670195577761,
     "user": {
      "displayName": "Jose Luis",
      "userId": "17952480099147442429"
     },
     "user_tz": 180
    },
    "id": "4ba80108-858c-4d4e-ba19-7f19fa526dc9"
   },
   "outputs": [],
   "source": [
    "# TODO Use the Random Forest model to predict probabilities for each class and then,\n",
    "# use the probabilities for the class 1 only.\n",
    "\n",
    "# Train data predictions (class 1)\n",
    "rf_pred_train = rf.predict_proba(train_data)[:, 1]  \n",
    "\n",
    "# Validation data predictions (class 1)\n",
    "rf_pred_val = rf.predict_proba(val_data)[:, 1]"
   ]
  },
  {
   "cell_type": "code",
   "execution_count": 33,
   "id": "7e4024aa",
   "metadata": {},
   "outputs": [
    {
     "data": {
      "text/plain": [
       "array([[0.26339088, 0.        , 1.        , ..., 0.        , 0.        ,\n",
       "        1.        ],\n",
       "       [0.70181333, 0.        , 0.        , ..., 0.        , 0.        ,\n",
       "        1.        ],\n",
       "       [0.58577965, 0.        , 0.        , ..., 0.        , 0.        ,\n",
       "        1.        ],\n",
       "       ...,\n",
       "       [0.3769993 , 0.        , 1.        , ..., 0.        , 0.        ,\n",
       "        1.        ],\n",
       "       [0.93950035, 0.        , 1.        , ..., 1.        , 0.        ,\n",
       "        0.        ],\n",
       "       [0.3501586 , 0.        , 0.        , ..., 1.        , 0.        ,\n",
       "        0.        ]], shape=(196806, 246))"
      ]
     },
     "execution_count": 33,
     "metadata": {},
     "output_type": "execute_result"
    }
   ],
   "source": [
    "train_data"
   ]
  },
  {
   "attachments": {},
   "cell_type": "markdown",
   "id": "W3TrmlUF2pDM",
   "metadata": {
    "id": "W3TrmlUF2pDM"
   },
   "source": [
    "3.6. Get AUC ROC score on train and validation datasets.\n"
   ]
  },
  {
   "cell_type": "code",
   "execution_count": 34,
   "id": "D4jft3Sw2pDN",
   "metadata": {
    "colab": {
     "base_uri": "https://localhost:8080/"
    },
    "executionInfo": {
     "elapsed": 378,
     "status": "ok",
     "timestamp": 1670195702088,
     "user": {
      "displayName": "Jose Luis",
      "userId": "17952480099147442429"
     },
     "user_tz": 180
    },
    "id": "D4jft3Sw2pDN",
    "outputId": "74877c11-92b3-43d3-afbe-08fb51201708"
   },
   "outputs": [],
   "source": [
    "# TODO Get the ROC AUC Score on train_data and val_data datasets.\n",
    "# Train ROC AUC Score\n",
    "roc_auc_train = roc_auc_score(y_true=y_train, y_score=rf_pred_train)\n",
    "\n",
    "# Validation ROC AUC Score\n",
    "roc_auc_val = roc_auc_score(y_true=y_val, y_score=rf_pred_val)"
   ]
  },
  {
   "cell_type": "code",
   "execution_count": 35,
   "id": "0b078346",
   "metadata": {},
   "outputs": [
    {
     "name": "stdout",
     "output_type": "stream",
     "text": [
      "1.0 0.7078495771835338\n"
     ]
    }
   ],
   "source": [
    "print(roc_auc_train, roc_auc_val)"
   ]
  },
  {
   "attachments": {},
   "cell_type": "markdown",
   "id": "8_buAhkG24ZC",
   "metadata": {
    "id": "8_buAhkG24ZC"
   },
   "source": [
    "At this point, the model should produce a result around 0.7.\n",
    "\n",
    "**Question:** Comparing train and validation results, do you observe underfitting, overfitting, or none of those two?"
   ]
  },
  {
   "cell_type": "markdown",
   "id": "4acfcc24-62b6-4118-9c42-a0268dcf5c53",
   "metadata": {
    "id": "4acfcc24-62b6-4118-9c42-a0268dcf5c53"
   },
   "source": [
    "### Randomized Search with Cross Validation"
   ]
  },
  {
   "cell_type": "markdown",
   "id": "dd634b2b-68af-4db1-b062-1496f8d1179e",
   "metadata": {
    "id": "dd634b2b-68af-4db1-b062-1496f8d1179e"
   },
   "source": [
    "So far, we've only created models using the default hyperparameters of each algorithm. This is usually something that we would only do for baseline models, hyperparameter tuning is a very important part of the modeling process and is often the difference between having an acceptable model or not.\n",
    "\n",
    "But, there are usually lots of hyperparameters to tune and a finite amount of time to do it, you have to consider the time and resources it takes to find an optimal combination of them. In the previous section you trained a random forest classifier and saw how much it took to train it once in your PC. If you want to do hyperparameter optimization you now have to consider that you will have to train the algorithm N number of times, with N being the cartesian product of all parameters. \n",
    "\n",
    "Furthermore, you can't validate the performance of your trained models on the test set, as this data should only be used to validate the final model. So we have to implement a validation strategy, K-Fold Cross Validation being the most common. But this also adds time complexity to our training, because we will have to train each combinations of hyperparameters M number of times, X being the number of folds in which we divided our dataset, so the total number of training iterations will be NxM... this resulting number can grow VERY quickly.\n",
    "\n",
    "Fortunately there are strategies to mitigate this, here you're going to select a small number of hyperparameters to test a RandomForestClassifier, and use a Randomized Search algorithm with K-Fold Cross Validation to avoid doing a full search across the grid. \n",
    "\n",
    "Remember: take in consideration how much time it took to train a single classifier, and define the number of cross validations folds and iterations of the search accordingly. \n",
    "A recommendation: run the training process, go make yourself a cup of coffee, sit somewhere comfortably and forget about it for a while.\n"
   ]
  },
  {
   "attachments": {},
   "cell_type": "markdown",
   "id": "c49a11c7-156f-46bb-8bba-be29d1b2ed1a",
   "metadata": {
    "id": "c49a11c7-156f-46bb-8bba-be29d1b2ed1a"
   },
   "source": [
    "3.7. Use `sklearn.model_selection.RandomizedSearchCV()` to find the best combination of hyperparameters for a Random Forest model. \n",
    "\n",
    "The validation metric used to evaluate the models should be \"roc_auc\" (i.e. `scoring=\"roc_auc\"`)."
   ]
  },
  {
   "cell_type": "code",
   "execution_count": null,
   "id": "2dd0e41d",
   "metadata": {},
   "outputs": [],
   "source": [
    "\n",
    "# TODO Write your code here for training a Random Forest model using Random Search\n",
    "# of hyper-parameters.\n",
    "#   - Please use sklearn.model_selection.RandomizedSearchCV() and\n",
    "#     sklearn.ensemble.RandomForestClassifier() classes.\n",
    "#   - Assign the RandomizedSearchCV model to the variable `rf_random`.\n",
    "#   - Remember to fit the model only on `train_data`.\n",
    "# rf_random = \n",
    "\n",
    "# =============================================================================\n",
    "# TODO Write your code here for training a Random Forest model using Random Search\n",
    "# of hyper-parameters.\n",
    "#   - Please use sklearn.model_selection.RandomizedSearchCV() and\n",
    "#     sklearn.ensemble.RandomForestClassifier() classes.\n",
    "#   - Assign the RandomizedSearchCV model to the variable `rf_random`.\n",
    "#   - Remember to fit the model only on `train_data`.\n",
    "# =============================================================================\n",
    "from sklearn.ensemble import RandomForestClassifier\n",
    "from sklearn.model_selection import RandomizedSearchCV, KFold\n",
    "import numpy as np\n",
    "\n",
    "# Parameter distributions for random search\n",
    "param_dist = {\n",
    "    'n_estimators': [100, 200, 300],\n",
    "    'max_depth': [None, 10, 20],\n",
    "    'min_samples_split': [2, 5],\n",
    "    'max_features': ['sqrt', 'log2']\n",
    "}\n",
    "\n",
    "# Initialize base model\n",
    "rf = RandomForestClassifier(random_state=42, n_jobs=-1)\n",
    "\n",
    "# 5-Fold Cross Validation\n",
    "kf = KFold(n_splits=5, shuffle=True, random_state=42)\n",
    "\n",
    "# Randomized Search\n",
    "rf_random = RandomizedSearchCV(\n",
    "    estimator=rf,\n",
    "    param_distributions=param_dist,\n",
    "    n_iter=10,\n",
    "    cv=kf,\n",
    "    scoring='roc_auc',\n",
    "    random_state=42,\n",
    "    n_jobs=-1\n",
    ")\n",
    "\n",
    "# Fit on training data only\n",
    "rf_random.fit(train_data, y_train)"
   ]
  },
  {
   "attachments": {},
   "cell_type": "markdown",
   "id": "b09205aa-5afc-481a-b45b-d5e80b56d804",
   "metadata": {
    "id": "b09205aa-5afc-481a-b45b-d5e80b56d804"
   },
   "source": [
    "3.8. Use the classifier to predict probabilities on the train and test data.\n"
   ]
  },
  {
   "cell_type": "code",
   "execution_count": 44,
   "id": "4429ca94-57f4-487e-b3dd-883bc7bc7835",
   "metadata": {
    "executionInfo": {
     "elapsed": 10144,
     "status": "ok",
     "timestamp": 1670198429448,
     "user": {
      "displayName": "Jose Luis",
      "userId": "17952480099147442429"
     },
     "user_tz": 180
    },
    "id": "4429ca94-57f4-487e-b3dd-883bc7bc7835"
   },
   "outputs": [
    {
     "ename": "NameError",
     "evalue": "name 'rf_random' is not defined",
     "output_type": "error",
     "traceback": [
      "\u001b[0;31m---------------------------------------------------------------------------\u001b[0m",
      "\u001b[0;31mNameError\u001b[0m                                 Traceback (most recent call last)",
      "Cell \u001b[0;32mIn[44], line 16\u001b[0m\n\u001b[1;32m      1\u001b[0m \u001b[38;5;66;03m# TODO Use the RandomizedSearchCV model to predict probabilities for each class and\u001b[39;00m\n\u001b[1;32m      2\u001b[0m \u001b[38;5;66;03m# then, use the probabilities for the class 1 only.\u001b[39;00m\n\u001b[1;32m      3\u001b[0m \n\u001b[0;32m   (...)\u001b[0m\n\u001b[1;32m     14\u001b[0m \n\u001b[1;32m     15\u001b[0m \u001b[38;5;66;03m# Get best estimator from random search\u001b[39;00m\n\u001b[0;32m---> 16\u001b[0m best_rf \u001b[38;5;241m=\u001b[39m \u001b[43mrf_random\u001b[49m\u001b[38;5;241m.\u001b[39mbest_estimator_\n\u001b[1;32m     18\u001b[0m \u001b[38;5;66;03m# Train data predictions (class 1)\u001b[39;00m\n\u001b[1;32m     19\u001b[0m rf_tuned_pred_train \u001b[38;5;241m=\u001b[39m best_rf\u001b[38;5;241m.\u001b[39mpredict_proba(train_data)[:, \u001b[38;5;241m1\u001b[39m]\n",
      "\u001b[0;31mNameError\u001b[0m: name 'rf_random' is not defined"
     ]
    }
   ],
   "source": [
    "# TODO Use the RandomizedSearchCV model to predict probabilities for each class and\n",
    "# then, use the probabilities for the class 1 only.\n",
    "\n",
    "# Train data predictions (class 1)\n",
    "# rf_tuned_pred_train =\n",
    "\n",
    "# Validation data predictions (class 1)\n",
    "# rf_tuned_pred_val =\n",
    "\n",
    "# =============================================================================\n",
    "# TODO Use the RandomizedSearchCV model to predict probabilities for each class and\n",
    "# then, use the probabilities for the class 1 only.\n",
    "# =============================================================================\n",
    "\n",
    "# Get best estimator from random search\n",
    "best_rf = rf_random.best_estimator_\n",
    "\n",
    "# Train data predictions (class 1)\n",
    "rf_tuned_pred_train = best_rf.predict_proba(train_data)[:, 1]\n",
    "\n",
    "# Validation data predictions (class 1)\n",
    "rf_tuned_pred_val = best_rf.predict_proba(val_data)[:, 1]\n"
   ]
  },
  {
   "attachments": {},
   "cell_type": "markdown",
   "id": "e645e849-a7e0-43af-b7d1-0b84c29f0e70",
   "metadata": {
    "id": "e645e849-a7e0-43af-b7d1-0b84c29f0e70"
   },
   "source": [
    "3.9. Get AUC ROC score on train and validation datasets."
   ]
  },
  {
   "cell_type": "code",
   "execution_count": null,
   "id": "953f2204-304a-405b-b51b-350f054eb3f4",
   "metadata": {
    "colab": {
     "base_uri": "https://localhost:8080/"
    },
    "executionInfo": {
     "elapsed": 412,
     "status": "ok",
     "timestamp": 1670199416165,
     "user": {
      "displayName": "Jose Luis",
      "userId": "17952480099147442429"
     },
     "user_tz": 180
    },
    "id": "953f2204-304a-405b-b51b-350f054eb3f4",
    "outputId": "e0c4bfdd-1188-4e6f-9bee-0148aa036543"
   },
   "outputs": [],
   "source": [
    "# TODO Get the ROC AUC Score on train_data and val_data datasets.\n",
    "# Train ROC AUC Score\n",
    "# roc_auc_train =\n",
    "\n",
    "# Validation ROC AUC Score\n",
    "# roc_auc_val =\n",
    "\n",
    "# =============================================================================\n",
    "# TODO Get the ROC AUC Score on train_data and val_data datasets.\n",
    "# =============================================================================\n",
    "\n",
    "# Train ROC AUC Score\n",
    "roc_auc_train = roc_auc_score(y_train, rf_tuned_pred_train)\n",
    "\n",
    "# Validation ROC AUC Score\n",
    "roc_auc_val = roc_auc_score(y_val, rf_tuned_pred_val)\n",
    "\n",
    "print(\"Best Parameters:\", rf_random.best_params_)\n",
    "print(f\"Train AUC: {roc_auc_train:.4f}\")\n",
    "print(f\"Validation AUC: {roc_auc_val:.4f}\")"
   ]
  },
  {
   "attachments": {},
   "cell_type": "markdown",
   "id": "_ZAAkhx1X1Qt",
   "metadata": {
    "id": "_ZAAkhx1X1Qt"
   },
   "source": [
    "At this point, the model should produce a result around 0.7 or higher.\n",
    "\n",
    "**Question:** Comparing train and validation results, do you observe underfitting, overfitting, or none of those two?"
   ]
  },
  {
   "attachments": {},
   "cell_type": "markdown",
   "id": "2143f7b6",
   "metadata": {},
   "source": [
    "## 4. Predict unlabeled data\n",
    "\n",
    "Now it's time to finally use the `test_data` samples. Because we don't have the labels we can't see how the model performs on this dataset (╯°□°)╯︵ ┻━┻\n",
    "\n",
    "But... don't worry, we will internally evaluate your model and give feedback on the results!\n",
    "\n",
    "In the cells below:\n",
    "- Take your best model\n",
    "- Take `test_data` (i.e. the dataset after doing the preprocessing and feature engineering part)\n",
    "- Run the data through your model and save the predictions on the `TARGET` column in the `app_test` DataFrame (yeah that we've loaded at the very beginning of this notebook).\n",
    "    - `TARGET` column values must be the probabilities for class 1. So remember to use the `predict_proba()` function from your model as we did in the previous sections.\n",
    "- Save the modified version of the DataFrame with the same name it has before (`dataset/application_test_aai.csv`) and don't forget to submit it alongside the rest of this sprint project code\n",
    "- And finally, don't get confused, you shouldn't submit `dataset/application_train_aai.csv`. So please don't upload your solution with this heavy dataset inside.\n",
    "\n",
    "Let's say your best model is called `best_credit_model_ever`, then your code should be exactly this:\n",
    "\n",
    "```python\n",
    "    test_preds = best_credit_model_ever.predict_proba(test_data)[:, 1]\n",
    "    app_test[\"TARGET\"] = test_preds\n",
    "    app_test.to_csv(config.DATASET_TEST, index=False)\n",
    "```\n"
   ]
  },
  {
   "cell_type": "code",
   "execution_count": null,
   "id": "c99b20f2",
   "metadata": {},
   "outputs": [],
   "source": [
    "%%time\n",
    "\n",
    "# TODO Use your best model and call the predict_proba() on test_data then,\n",
    "# use the probabilities for the class 1 only.\n",
    "# Then, put the predictions in app_test[\"TARGET\"] and save the DataFrame as a csv\n",
    "# with the same name it originally has (\"application_test_aai.csv\").\n"
   ]
  },
  {
   "cell_type": "markdown",
   "id": "1ad777cd",
   "metadata": {},
   "source": [
    "## 5. Optional exercises"
   ]
  },
  {
   "cell_type": "markdown",
   "id": "d72e7335-f3cc-410d-81f2-f110f3fbb252",
   "metadata": {
    "id": "d72e7335-f3cc-410d-81f2-f110f3fbb252"
   },
   "source": [
    "### Optional: Training a LightGBM model "
   ]
  },
  {
   "cell_type": "markdown",
   "id": "015d58b7-9f70-4bfb-8b72-20a626e00ea0",
   "metadata": {
    "id": "015d58b7-9f70-4bfb-8b72-20a626e00ea0"
   },
   "source": [
    "5.1. Gradient Boosting Machine is one of the most used machine learning algorithms for tabular data. Lots of competitions have been won using models from libraries like XGBoost or LightGBM. You can try using [LightGBM](https://lightgbm.readthedocs.io/en/latest/) to train a new model an see how it performs compared to the other classifiers you trained. "
   ]
  },
  {
   "cell_type": "code",
   "execution_count": null,
   "id": "91d497eb-2b8b-43fe-945e-26a04b8fc004",
   "metadata": {
    "id": "91d497eb-2b8b-43fe-945e-26a04b8fc004"
   },
   "outputs": [],
   "source": [
    "### Complete in this cell: train a LightGBM model"
   ]
  },
  {
   "cell_type": "markdown",
   "id": "c2d1a1f4-5e1e-4982-a6ae-a27b8c11428e",
   "metadata": {
    "id": "c2d1a1f4-5e1e-4982-a6ae-a27b8c11428e"
   },
   "source": [
    "### Optional: Using Scikit Learn Pipelines "
   ]
  },
  {
   "cell_type": "markdown",
   "id": "2e4f95fb-73bf-42c4-97a3-80078f2496aa",
   "metadata": {
    "id": "2e4f95fb-73bf-42c4-97a3-80078f2496aa"
   },
   "source": [
    "5.2. So far you've created special functions or blocks or code to chain operations on data and then train the models. But, reproducibility is important, and you don't want to have to remember the correct steps to follow each time you have new data to train your models. There are a lots of tools out there that can help you with that, here you can use a [Sklearn Pipeline](https://scikit-learn.org/stable/modules/generated/sklearn.pipeline.Pipeline.html) to process your data."
   ]
  },
  {
   "cell_type": "code",
   "execution_count": null,
   "id": "5a5eecdf-ee08-4ebd-8667-25cdb9a3eef4",
   "metadata": {
    "id": "5a5eecdf-ee08-4ebd-8667-25cdb9a3eef4"
   },
   "outputs": [],
   "source": [
    "### Complete in this cell: use a sklearn Pipeline to automate the cleaning, standardizing and training"
   ]
  },
  {
   "cell_type": "markdown",
   "id": "46fcadf8",
   "metadata": {},
   "source": [
    "### Optional: Build your own model and features\n",
    "\n",
    "5.3. If you want you can take the original labeled data given and make your own feature selection, data preprocessing, and model tunning. Be creative, the only limit is time and hardware resources. Only be careful and don't modify the previous functions made in the mandatory assignments or, you will break the project tests.\n",
    "\n",
    "You can even use this newer model to make predictions in the test dataset with hidden labels and submit that.\n"
   ]
  },
  {
   "cell_type": "code",
   "execution_count": null,
   "id": "942da44e",
   "metadata": {},
   "outputs": [],
   "source": [
    "### Complete in this cell: Make you own experimentation process"
   ]
  }
 ],
 "metadata": {
  "colab": {
   "provenance": []
  },
  "kernelspec": {
   "display_name": "sklearn_env",
   "language": "python",
   "name": "python3"
  },
  "language_info": {
   "codemirror_mode": {
    "name": "ipython",
    "version": 3
   },
   "file_extension": ".py",
   "mimetype": "text/x-python",
   "name": "python",
   "nbconvert_exporter": "python",
   "pygments_lexer": "ipython3",
   "version": "3.10.0"
  }
 },
 "nbformat": 4,
 "nbformat_minor": 5
}
